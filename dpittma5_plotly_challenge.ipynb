{
 "cells": [
  {
   "cell_type": "code",
   "execution_count": 27,
   "id": "fc39f538",
   "metadata": {},
   "outputs": [],
   "source": [
    "import pandas as pd\n",
    "from matplotlib import pyplot as plt\n",
    "import plotly.express as px\n",
    "import numpy as np\n",
    "# These were noted as needed in the demo docs, but I wasn't sure, so I commented them out.\n",
    "# Per class demo, using the ones provided by the presenters\n",
    "#import plotly.graph_objs as go\n",
    "#from plotly.offline import init_notebook_mode, iplot, plot\n",
    "#import plotly as py"
   ]
  },
  {
   "cell_type": "markdown",
   "id": "8e0b2a42",
   "metadata": {},
   "source": [
    "- The source file showed as a csv in the instructions, but it was an xlsx.\n",
    "- So, I looked up reading in an excel file instead over first converting it to a csv\n",
    "- Then, when I tried to run read_excel, it needed openpyxl, so I pip installed that ... winner!\n",
    "\n",
    "### #2 Use pandas.read_csv to access the provided dataset:"
   ]
  },
  {
   "cell_type": "code",
   "execution_count": 28,
   "id": "844a3624",
   "metadata": {},
   "outputs": [],
   "source": [
    "#csv = pd.read_csv('Fuel_Consumption_2000-2022.csv', header = 0)\n",
    "xls = pd.read_excel('Fuel_Consumption_2000-2022.xlsx', sheet_name='in')"
   ]
  },
  {
   "cell_type": "markdown",
   "id": "5981c9d5",
   "metadata": {},
   "source": [
    "- Output looks good as a dataframe"
   ]
  },
  {
   "cell_type": "code",
   "execution_count": 25,
   "id": "b0fb9a57",
   "metadata": {},
   "outputs": [
    {
     "data": {
      "text/html": [
       "<div>\n",
       "<style scoped>\n",
       "    .dataframe tbody tr th:only-of-type {\n",
       "        vertical-align: middle;\n",
       "    }\n",
       "\n",
       "    .dataframe tbody tr th {\n",
       "        vertical-align: top;\n",
       "    }\n",
       "\n",
       "    .dataframe thead th {\n",
       "        text-align: right;\n",
       "    }\n",
       "</style>\n",
       "<table border=\"1\" class=\"dataframe\">\n",
       "  <thead>\n",
       "    <tr style=\"text-align: right;\">\n",
       "      <th></th>\n",
       "      <th>ID</th>\n",
       "      <th>YEAR</th>\n",
       "      <th>MAKE</th>\n",
       "      <th>MODEL</th>\n",
       "      <th>VEHICLE CLASS</th>\n",
       "      <th>ENGINE SIZE</th>\n",
       "      <th>CYLINDERS</th>\n",
       "      <th>TRANSMISSION</th>\n",
       "      <th>FUEL</th>\n",
       "      <th>FUEL CONSUMPTION</th>\n",
       "      <th>COMB (mpg)</th>\n",
       "      <th>EMISSIONS</th>\n",
       "    </tr>\n",
       "  </thead>\n",
       "  <tbody>\n",
       "    <tr>\n",
       "      <th>0</th>\n",
       "      <td>1</td>\n",
       "      <td>2000</td>\n",
       "      <td>ACURA</td>\n",
       "      <td>1.6EL</td>\n",
       "      <td>COMPACT</td>\n",
       "      <td>1.6</td>\n",
       "      <td>4</td>\n",
       "      <td>A4</td>\n",
       "      <td>X</td>\n",
       "      <td>9.2</td>\n",
       "      <td>35</td>\n",
       "      <td>186</td>\n",
       "    </tr>\n",
       "    <tr>\n",
       "      <th>1</th>\n",
       "      <td>2</td>\n",
       "      <td>2000</td>\n",
       "      <td>ACURA</td>\n",
       "      <td>1.6EL</td>\n",
       "      <td>COMPACT</td>\n",
       "      <td>1.6</td>\n",
       "      <td>4</td>\n",
       "      <td>M5</td>\n",
       "      <td>X</td>\n",
       "      <td>8.5</td>\n",
       "      <td>37</td>\n",
       "      <td>175</td>\n",
       "    </tr>\n",
       "    <tr>\n",
       "      <th>2</th>\n",
       "      <td>3</td>\n",
       "      <td>2000</td>\n",
       "      <td>ACURA</td>\n",
       "      <td>3.2TL</td>\n",
       "      <td>MID-SIZE</td>\n",
       "      <td>3.2</td>\n",
       "      <td>6</td>\n",
       "      <td>AS5</td>\n",
       "      <td>Z</td>\n",
       "      <td>12.2</td>\n",
       "      <td>28</td>\n",
       "      <td>230</td>\n",
       "    </tr>\n",
       "    <tr>\n",
       "      <th>3</th>\n",
       "      <td>4</td>\n",
       "      <td>2000</td>\n",
       "      <td>ACURA</td>\n",
       "      <td>3.5RL</td>\n",
       "      <td>MID-SIZE</td>\n",
       "      <td>3.5</td>\n",
       "      <td>6</td>\n",
       "      <td>A4</td>\n",
       "      <td>Z</td>\n",
       "      <td>13.4</td>\n",
       "      <td>25</td>\n",
       "      <td>264</td>\n",
       "    </tr>\n",
       "    <tr>\n",
       "      <th>4</th>\n",
       "      <td>5</td>\n",
       "      <td>2000</td>\n",
       "      <td>ACURA</td>\n",
       "      <td>INTEGRA</td>\n",
       "      <td>SUBCOMPACT</td>\n",
       "      <td>1.8</td>\n",
       "      <td>4</td>\n",
       "      <td>A4</td>\n",
       "      <td>X</td>\n",
       "      <td>10.0</td>\n",
       "      <td>33</td>\n",
       "      <td>198</td>\n",
       "    </tr>\n",
       "    <tr>\n",
       "      <th>...</th>\n",
       "      <td>...</td>\n",
       "      <td>...</td>\n",
       "      <td>...</td>\n",
       "      <td>...</td>\n",
       "      <td>...</td>\n",
       "      <td>...</td>\n",
       "      <td>...</td>\n",
       "      <td>...</td>\n",
       "      <td>...</td>\n",
       "      <td>...</td>\n",
       "      <td>...</td>\n",
       "      <td>...</td>\n",
       "    </tr>\n",
       "    <tr>\n",
       "      <th>22551</th>\n",
       "      <td>22552</td>\n",
       "      <td>2022</td>\n",
       "      <td>Volvo</td>\n",
       "      <td>XC40 T5 AWD</td>\n",
       "      <td>SUV - SMALL</td>\n",
       "      <td>2.0</td>\n",
       "      <td>4</td>\n",
       "      <td>AS8</td>\n",
       "      <td>Z</td>\n",
       "      <td>10.7</td>\n",
       "      <td>30</td>\n",
       "      <td>219</td>\n",
       "    </tr>\n",
       "    <tr>\n",
       "      <th>22552</th>\n",
       "      <td>22553</td>\n",
       "      <td>2022</td>\n",
       "      <td>Volvo</td>\n",
       "      <td>XC60 B5 AWD</td>\n",
       "      <td>SUV - SMALL</td>\n",
       "      <td>2.0</td>\n",
       "      <td>4</td>\n",
       "      <td>AS8</td>\n",
       "      <td>Z</td>\n",
       "      <td>10.5</td>\n",
       "      <td>30</td>\n",
       "      <td>219</td>\n",
       "    </tr>\n",
       "    <tr>\n",
       "      <th>22553</th>\n",
       "      <td>22554</td>\n",
       "      <td>2022</td>\n",
       "      <td>Volvo</td>\n",
       "      <td>XC60 B6 AWD</td>\n",
       "      <td>SUV - SMALL</td>\n",
       "      <td>2.0</td>\n",
       "      <td>4</td>\n",
       "      <td>AS8</td>\n",
       "      <td>Z</td>\n",
       "      <td>11.0</td>\n",
       "      <td>29</td>\n",
       "      <td>232</td>\n",
       "    </tr>\n",
       "    <tr>\n",
       "      <th>22554</th>\n",
       "      <td>22555</td>\n",
       "      <td>2022</td>\n",
       "      <td>Volvo</td>\n",
       "      <td>XC90 T5 AWD</td>\n",
       "      <td>SUV - STANDARD</td>\n",
       "      <td>2.0</td>\n",
       "      <td>4</td>\n",
       "      <td>AS8</td>\n",
       "      <td>Z</td>\n",
       "      <td>11.5</td>\n",
       "      <td>28</td>\n",
       "      <td>236</td>\n",
       "    </tr>\n",
       "    <tr>\n",
       "      <th>22555</th>\n",
       "      <td>22556</td>\n",
       "      <td>2022</td>\n",
       "      <td>Volvo</td>\n",
       "      <td>XC90 T6 AWD</td>\n",
       "      <td>SUV - STANDARD</td>\n",
       "      <td>2.0</td>\n",
       "      <td>4</td>\n",
       "      <td>AS8</td>\n",
       "      <td>Z</td>\n",
       "      <td>12.4</td>\n",
       "      <td>26</td>\n",
       "      <td>252</td>\n",
       "    </tr>\n",
       "  </tbody>\n",
       "</table>\n",
       "<p>22556 rows × 12 columns</p>\n",
       "</div>"
      ],
      "text/plain": [
       "          ID  YEAR   MAKE        MODEL   VEHICLE CLASS  ENGINE SIZE  \\\n",
       "0          1  2000  ACURA        1.6EL         COMPACT          1.6   \n",
       "1          2  2000  ACURA        1.6EL         COMPACT          1.6   \n",
       "2          3  2000  ACURA        3.2TL        MID-SIZE          3.2   \n",
       "3          4  2000  ACURA        3.5RL        MID-SIZE          3.5   \n",
       "4          5  2000  ACURA      INTEGRA      SUBCOMPACT          1.8   \n",
       "...      ...   ...    ...          ...             ...          ...   \n",
       "22551  22552  2022  Volvo  XC40 T5 AWD     SUV - SMALL          2.0   \n",
       "22552  22553  2022  Volvo  XC60 B5 AWD     SUV - SMALL          2.0   \n",
       "22553  22554  2022  Volvo  XC60 B6 AWD     SUV - SMALL          2.0   \n",
       "22554  22555  2022  Volvo  XC90 T5 AWD  SUV - STANDARD          2.0   \n",
       "22555  22556  2022  Volvo  XC90 T6 AWD  SUV - STANDARD          2.0   \n",
       "\n",
       "       CYLINDERS TRANSMISSION FUEL  FUEL CONSUMPTION  COMB (mpg)  EMISSIONS  \n",
       "0              4           A4    X               9.2          35        186  \n",
       "1              4           M5    X               8.5          37        175  \n",
       "2              6          AS5    Z              12.2          28        230  \n",
       "3              6           A4    Z              13.4          25        264  \n",
       "4              4           A4    X              10.0          33        198  \n",
       "...          ...          ...  ...               ...         ...        ...  \n",
       "22551          4          AS8    Z              10.7          30        219  \n",
       "22552          4          AS8    Z              10.5          30        219  \n",
       "22553          4          AS8    Z              11.0          29        232  \n",
       "22554          4          AS8    Z              11.5          28        236  \n",
       "22555          4          AS8    Z              12.4          26        252  \n",
       "\n",
       "[22556 rows x 12 columns]"
      ]
     },
     "execution_count": 25,
     "metadata": {},
     "output_type": "execute_result"
    }
   ],
   "source": [
    "xls"
   ]
  },
  {
   "cell_type": "code",
   "execution_count": 30,
   "id": "30427760",
   "metadata": {},
   "outputs": [
    {
     "data": {
      "text/plain": [
       "22556"
      ]
     },
     "execution_count": 30,
     "metadata": {},
     "output_type": "execute_result"
    }
   ],
   "source": [
    "len(xls)"
   ]
  },
  {
   "cell_type": "markdown",
   "id": "9ea27c18",
   "metadata": {},
   "source": [
    "### #3 In a Markdown cell, indicate how many rows of data are in the original source.\n",
    "- There are 22556 rows in the source"
   ]
  },
  {
   "cell_type": "markdown",
   "id": "5fc5f7fe",
   "metadata": {},
   "source": [
    "### #4 To better sort and group the data, we’ll want to change some data types to ‘category’.  Using the .astype() feature change the following data columns to ‘category’ of your working data frame ‘YEAR’, ‘VEHICLE CLASS’, & ‘MAKE’"
   ]
  },
  {
   "cell_type": "code",
   "execution_count": 35,
   "id": "aa046963",
   "metadata": {},
   "outputs": [],
   "source": [
    "xls_clean = xls.astype({'YEAR': 'category', 'VEHICLE CLASS': 'category', 'MAKE': 'category'})"
   ]
  },
  {
   "cell_type": "markdown",
   "id": "eebb2195",
   "metadata": {},
   "source": [
    "### #5 Put the output of a .groupby() & .describe() statement into it’s own variable from the updated data frame from STEP #4.\n",
    "- Use ‘YEAR’ and ‘VEHICLE CLASS’ as your group by criteria in the above command."
   ]
  },
  {
   "cell_type": "code",
   "execution_count": 41,
   "id": "82323969",
   "metadata": {},
   "outputs": [
    {
     "data": {
      "text/html": [
       "<div>\n",
       "<style scoped>\n",
       "    .dataframe tbody tr th:only-of-type {\n",
       "        vertical-align: middle;\n",
       "    }\n",
       "\n",
       "    .dataframe tbody tr th {\n",
       "        vertical-align: top;\n",
       "    }\n",
       "\n",
       "    .dataframe thead tr th {\n",
       "        text-align: left;\n",
       "    }\n",
       "\n",
       "    .dataframe thead tr:last-of-type th {\n",
       "        text-align: right;\n",
       "    }\n",
       "</style>\n",
       "<table border=\"1\" class=\"dataframe\">\n",
       "  <thead>\n",
       "    <tr>\n",
       "      <th></th>\n",
       "      <th></th>\n",
       "      <th colspan=\"8\" halign=\"left\">ID</th>\n",
       "      <th colspan=\"2\" halign=\"left\">ENGINE SIZE</th>\n",
       "      <th>...</th>\n",
       "      <th colspan=\"2\" halign=\"left\">COMB (mpg)</th>\n",
       "      <th colspan=\"8\" halign=\"left\">EMISSIONS</th>\n",
       "    </tr>\n",
       "    <tr>\n",
       "      <th></th>\n",
       "      <th></th>\n",
       "      <th>count</th>\n",
       "      <th>mean</th>\n",
       "      <th>std</th>\n",
       "      <th>min</th>\n",
       "      <th>25%</th>\n",
       "      <th>50%</th>\n",
       "      <th>75%</th>\n",
       "      <th>max</th>\n",
       "      <th>count</th>\n",
       "      <th>mean</th>\n",
       "      <th>...</th>\n",
       "      <th>75%</th>\n",
       "      <th>max</th>\n",
       "      <th>count</th>\n",
       "      <th>mean</th>\n",
       "      <th>std</th>\n",
       "      <th>min</th>\n",
       "      <th>25%</th>\n",
       "      <th>50%</th>\n",
       "      <th>75%</th>\n",
       "      <th>max</th>\n",
       "    </tr>\n",
       "    <tr>\n",
       "      <th>YEAR</th>\n",
       "      <th>VEHICLE CLASS</th>\n",
       "      <th></th>\n",
       "      <th></th>\n",
       "      <th></th>\n",
       "      <th></th>\n",
       "      <th></th>\n",
       "      <th></th>\n",
       "      <th></th>\n",
       "      <th></th>\n",
       "      <th></th>\n",
       "      <th></th>\n",
       "      <th></th>\n",
       "      <th></th>\n",
       "      <th></th>\n",
       "      <th></th>\n",
       "      <th></th>\n",
       "      <th></th>\n",
       "      <th></th>\n",
       "      <th></th>\n",
       "      <th></th>\n",
       "      <th></th>\n",
       "      <th></th>\n",
       "    </tr>\n",
       "  </thead>\n",
       "  <tbody>\n",
       "    <tr>\n",
       "      <th rowspan=\"5\" valign=\"top\">2000</th>\n",
       "      <th>COMPACT</th>\n",
       "      <td>105.0</td>\n",
       "      <td>329.219048</td>\n",
       "      <td>221.470782</td>\n",
       "      <td>1.0</td>\n",
       "      <td>54.00</td>\n",
       "      <td>375.0</td>\n",
       "      <td>549.00</td>\n",
       "      <td>624.0</td>\n",
       "      <td>105.0</td>\n",
       "      <td>2.348571</td>\n",
       "      <td>...</td>\n",
       "      <td>34.00</td>\n",
       "      <td>55.0</td>\n",
       "      <td>105.0</td>\n",
       "      <td>213.371429</td>\n",
       "      <td>33.433993</td>\n",
       "      <td>138.0</td>\n",
       "      <td>193.0</td>\n",
       "      <td>216.0</td>\n",
       "      <td>232.0</td>\n",
       "      <td>331.0</td>\n",
       "    </tr>\n",
       "    <tr>\n",
       "      <th>FULL-SIZE</th>\n",
       "      <td>28.0</td>\n",
       "      <td>241.642857</td>\n",
       "      <td>174.074955</td>\n",
       "      <td>50.0</td>\n",
       "      <td>104.75</td>\n",
       "      <td>142.5</td>\n",
       "      <td>431.25</td>\n",
       "      <td>544.0</td>\n",
       "      <td>28.0</td>\n",
       "      <td>3.710714</td>\n",
       "      <td>...</td>\n",
       "      <td>28.25</td>\n",
       "      <td>30.0</td>\n",
       "      <td>28.0</td>\n",
       "      <td>248.535714</td>\n",
       "      <td>22.802667</td>\n",
       "      <td>218.0</td>\n",
       "      <td>229.5</td>\n",
       "      <td>246.0</td>\n",
       "      <td>260.5</td>\n",
       "      <td>331.0</td>\n",
       "    </tr>\n",
       "    <tr>\n",
       "      <th>MID-SIZE</th>\n",
       "      <td>77.0</td>\n",
       "      <td>347.064935</td>\n",
       "      <td>202.177250</td>\n",
       "      <td>3.0</td>\n",
       "      <td>136.00</td>\n",
       "      <td>390.0</td>\n",
       "      <td>492.00</td>\n",
       "      <td>632.0</td>\n",
       "      <td>77.0</td>\n",
       "      <td>3.029870</td>\n",
       "      <td>...</td>\n",
       "      <td>29.00</td>\n",
       "      <td>34.0</td>\n",
       "      <td>77.0</td>\n",
       "      <td>239.000000</td>\n",
       "      <td>22.919769</td>\n",
       "      <td>189.0</td>\n",
       "      <td>223.0</td>\n",
       "      <td>235.0</td>\n",
       "      <td>260.0</td>\n",
       "      <td>292.0</td>\n",
       "    </tr>\n",
       "    <tr>\n",
       "      <th>MINICOMPACT</th>\n",
       "      <td>11.0</td>\n",
       "      <td>328.727273</td>\n",
       "      <td>193.007301</td>\n",
       "      <td>28.0</td>\n",
       "      <td>208.00</td>\n",
       "      <td>419.0</td>\n",
       "      <td>483.50</td>\n",
       "      <td>486.0</td>\n",
       "      <td>11.0</td>\n",
       "      <td>3.263636</td>\n",
       "      <td>...</td>\n",
       "      <td>27.50</td>\n",
       "      <td>29.0</td>\n",
       "      <td>11.0</td>\n",
       "      <td>257.090909</td>\n",
       "      <td>21.092437</td>\n",
       "      <td>225.0</td>\n",
       "      <td>239.5</td>\n",
       "      <td>264.0</td>\n",
       "      <td>271.5</td>\n",
       "      <td>285.0</td>\n",
       "    </tr>\n",
       "    <tr>\n",
       "      <th>MINIVAN</th>\n",
       "      <td>26.0</td>\n",
       "      <td>275.807692</td>\n",
       "      <td>152.079195</td>\n",
       "      <td>134.0</td>\n",
       "      <td>167.25</td>\n",
       "      <td>186.5</td>\n",
       "      <td>387.75</td>\n",
       "      <td>586.0</td>\n",
       "      <td>26.0</td>\n",
       "      <td>3.357692</td>\n",
       "      <td>...</td>\n",
       "      <td>26.00</td>\n",
       "      <td>26.0</td>\n",
       "      <td>26.0</td>\n",
       "      <td>266.076923</td>\n",
       "      <td>20.478131</td>\n",
       "      <td>246.0</td>\n",
       "      <td>253.0</td>\n",
       "      <td>261.0</td>\n",
       "      <td>274.0</td>\n",
       "      <td>331.0</td>\n",
       "    </tr>\n",
       "    <tr>\n",
       "      <th>...</th>\n",
       "      <th>...</th>\n",
       "      <td>...</td>\n",
       "      <td>...</td>\n",
       "      <td>...</td>\n",
       "      <td>...</td>\n",
       "      <td>...</td>\n",
       "      <td>...</td>\n",
       "      <td>...</td>\n",
       "      <td>...</td>\n",
       "      <td>...</td>\n",
       "      <td>...</td>\n",
       "      <td>...</td>\n",
       "      <td>...</td>\n",
       "      <td>...</td>\n",
       "      <td>...</td>\n",
       "      <td>...</td>\n",
       "      <td>...</td>\n",
       "      <td>...</td>\n",
       "      <td>...</td>\n",
       "      <td>...</td>\n",
       "      <td>...</td>\n",
       "      <td>...</td>\n",
       "    </tr>\n",
       "    <tr>\n",
       "      <th rowspan=\"5\" valign=\"top\">2022</th>\n",
       "      <th>STATION WAGON - SMALL</th>\n",
       "      <td>19.0</td>\n",
       "      <td>22235.894737</td>\n",
       "      <td>217.971429</td>\n",
       "      <td>21624.0</td>\n",
       "      <td>22143.50</td>\n",
       "      <td>22260.0</td>\n",
       "      <td>22345.50</td>\n",
       "      <td>22549.0</td>\n",
       "      <td>19.0</td>\n",
       "      <td>1.905263</td>\n",
       "      <td>...</td>\n",
       "      <td>36.00</td>\n",
       "      <td>61.0</td>\n",
       "      <td>19.0</td>\n",
       "      <td>192.473684</td>\n",
       "      <td>39.748331</td>\n",
       "      <td>110.0</td>\n",
       "      <td>184.0</td>\n",
       "      <td>200.0</td>\n",
       "      <td>217.0</td>\n",
       "      <td>260.0</td>\n",
       "    </tr>\n",
       "    <tr>\n",
       "      <th>SUBCOMPACT</th>\n",
       "      <td>79.0</td>\n",
       "      <td>21945.189873</td>\n",
       "      <td>252.686695</td>\n",
       "      <td>21621.0</td>\n",
       "      <td>21697.50</td>\n",
       "      <td>21945.0</td>\n",
       "      <td>22232.00</td>\n",
       "      <td>22324.0</td>\n",
       "      <td>79.0</td>\n",
       "      <td>3.098734</td>\n",
       "      <td>...</td>\n",
       "      <td>31.00</td>\n",
       "      <td>40.0</td>\n",
       "      <td>79.0</td>\n",
       "      <td>248.341772</td>\n",
       "      <td>51.964704</td>\n",
       "      <td>165.0</td>\n",
       "      <td>211.0</td>\n",
       "      <td>242.0</td>\n",
       "      <td>286.0</td>\n",
       "      <td>392.0</td>\n",
       "    </tr>\n",
       "    <tr>\n",
       "      <th>SUV - SMALL</th>\n",
       "      <td>197.0</td>\n",
       "      <td>22081.477157</td>\n",
       "      <td>275.913854</td>\n",
       "      <td>21603.0</td>\n",
       "      <td>21878.00</td>\n",
       "      <td>22103.0</td>\n",
       "      <td>22274.00</td>\n",
       "      <td>22554.0</td>\n",
       "      <td>197.0</td>\n",
       "      <td>2.328426</td>\n",
       "      <td>...</td>\n",
       "      <td>32.00</td>\n",
       "      <td>49.0</td>\n",
       "      <td>197.0</td>\n",
       "      <td>229.857868</td>\n",
       "      <td>41.351160</td>\n",
       "      <td>136.0</td>\n",
       "      <td>204.0</td>\n",
       "      <td>224.0</td>\n",
       "      <td>252.0</td>\n",
       "      <td>387.0</td>\n",
       "    </tr>\n",
       "    <tr>\n",
       "      <th>SUV - STANDARD</th>\n",
       "      <td>149.0</td>\n",
       "      <td>22044.738255</td>\n",
       "      <td>239.832470</td>\n",
       "      <td>21619.0</td>\n",
       "      <td>21840.00</td>\n",
       "      <td>22027.0</td>\n",
       "      <td>22210.00</td>\n",
       "      <td>22556.0</td>\n",
       "      <td>149.0</td>\n",
       "      <td>3.970470</td>\n",
       "      <td>...</td>\n",
       "      <td>25.00</td>\n",
       "      <td>42.0</td>\n",
       "      <td>149.0</td>\n",
       "      <td>305.174497</td>\n",
       "      <td>46.350418</td>\n",
       "      <td>156.0</td>\n",
       "      <td>272.0</td>\n",
       "      <td>309.0</td>\n",
       "      <td>343.0</td>\n",
       "      <td>412.0</td>\n",
       "    </tr>\n",
       "    <tr>\n",
       "      <th>TWO-SEATER</th>\n",
       "      <td>51.0</td>\n",
       "      <td>22138.490196</td>\n",
       "      <td>276.644420</td>\n",
       "      <td>21620.0</td>\n",
       "      <td>22016.50</td>\n",
       "      <td>22166.0</td>\n",
       "      <td>22366.50</td>\n",
       "      <td>22503.0</td>\n",
       "      <td>51.0</td>\n",
       "      <td>4.035294</td>\n",
       "      <td>...</td>\n",
       "      <td>27.00</td>\n",
       "      <td>36.0</td>\n",
       "      <td>51.0</td>\n",
       "      <td>307.254902</td>\n",
       "      <td>99.568839</td>\n",
       "      <td>186.0</td>\n",
       "      <td>245.0</td>\n",
       "      <td>284.0</td>\n",
       "      <td>339.0</td>\n",
       "      <td>608.0</td>\n",
       "    </tr>\n",
       "  </tbody>\n",
       "</table>\n",
       "<p>335 rows × 48 columns</p>\n",
       "</div>"
      ],
      "text/plain": [
       "                               ID                                     \\\n",
       "                            count          mean         std      min   \n",
       "YEAR VEHICLE CLASS                                                     \n",
       "2000 COMPACT                105.0    329.219048  221.470782      1.0   \n",
       "     FULL-SIZE               28.0    241.642857  174.074955     50.0   \n",
       "     MID-SIZE                77.0    347.064935  202.177250      3.0   \n",
       "     MINICOMPACT             11.0    328.727273  193.007301     28.0   \n",
       "     MINIVAN                 26.0    275.807692  152.079195    134.0   \n",
       "...                           ...           ...         ...      ...   \n",
       "2022 STATION WAGON - SMALL   19.0  22235.894737  217.971429  21624.0   \n",
       "     SUBCOMPACT              79.0  21945.189873  252.686695  21621.0   \n",
       "     SUV - SMALL            197.0  22081.477157  275.913854  21603.0   \n",
       "     SUV - STANDARD         149.0  22044.738255  239.832470  21619.0   \n",
       "     TWO-SEATER              51.0  22138.490196  276.644420  21620.0   \n",
       "\n",
       "                                                                 ENGINE SIZE  \\\n",
       "                                 25%      50%       75%      max       count   \n",
       "YEAR VEHICLE CLASS                                                             \n",
       "2000 COMPACT                   54.00    375.0    549.00    624.0       105.0   \n",
       "     FULL-SIZE                104.75    142.5    431.25    544.0        28.0   \n",
       "     MID-SIZE                 136.00    390.0    492.00    632.0        77.0   \n",
       "     MINICOMPACT              208.00    419.0    483.50    486.0        11.0   \n",
       "     MINIVAN                  167.25    186.5    387.75    586.0        26.0   \n",
       "...                              ...      ...       ...      ...         ...   \n",
       "2022 STATION WAGON - SMALL  22143.50  22260.0  22345.50  22549.0        19.0   \n",
       "     SUBCOMPACT             21697.50  21945.0  22232.00  22324.0        79.0   \n",
       "     SUV - SMALL            21878.00  22103.0  22274.00  22554.0       197.0   \n",
       "     SUV - STANDARD         21840.00  22027.0  22210.00  22556.0       149.0   \n",
       "     TWO-SEATER             22016.50  22166.0  22366.50  22503.0        51.0   \n",
       "\n",
       "                                      ... COMB (mpg)       EMISSIONS  \\\n",
       "                                mean  ...        75%   max     count   \n",
       "YEAR VEHICLE CLASS                    ...                              \n",
       "2000 COMPACT                2.348571  ...      34.00  55.0     105.0   \n",
       "     FULL-SIZE              3.710714  ...      28.25  30.0      28.0   \n",
       "     MID-SIZE               3.029870  ...      29.00  34.0      77.0   \n",
       "     MINICOMPACT            3.263636  ...      27.50  29.0      11.0   \n",
       "     MINIVAN                3.357692  ...      26.00  26.0      26.0   \n",
       "...                              ...  ...        ...   ...       ...   \n",
       "2022 STATION WAGON - SMALL  1.905263  ...      36.00  61.0      19.0   \n",
       "     SUBCOMPACT             3.098734  ...      31.00  40.0      79.0   \n",
       "     SUV - SMALL            2.328426  ...      32.00  49.0     197.0   \n",
       "     SUV - STANDARD         3.970470  ...      25.00  42.0     149.0   \n",
       "     TWO-SEATER             4.035294  ...      27.00  36.0      51.0   \n",
       "\n",
       "                                                                               \\\n",
       "                                  mean        std    min    25%    50%    75%   \n",
       "YEAR VEHICLE CLASS                                                              \n",
       "2000 COMPACT                213.371429  33.433993  138.0  193.0  216.0  232.0   \n",
       "     FULL-SIZE              248.535714  22.802667  218.0  229.5  246.0  260.5   \n",
       "     MID-SIZE               239.000000  22.919769  189.0  223.0  235.0  260.0   \n",
       "     MINICOMPACT            257.090909  21.092437  225.0  239.5  264.0  271.5   \n",
       "     MINIVAN                266.076923  20.478131  246.0  253.0  261.0  274.0   \n",
       "...                                ...        ...    ...    ...    ...    ...   \n",
       "2022 STATION WAGON - SMALL  192.473684  39.748331  110.0  184.0  200.0  217.0   \n",
       "     SUBCOMPACT             248.341772  51.964704  165.0  211.0  242.0  286.0   \n",
       "     SUV - SMALL            229.857868  41.351160  136.0  204.0  224.0  252.0   \n",
       "     SUV - STANDARD         305.174497  46.350418  156.0  272.0  309.0  343.0   \n",
       "     TWO-SEATER             307.254902  99.568839  186.0  245.0  284.0  339.0   \n",
       "\n",
       "                                   \n",
       "                              max  \n",
       "YEAR VEHICLE CLASS                 \n",
       "2000 COMPACT                331.0  \n",
       "     FULL-SIZE              331.0  \n",
       "     MID-SIZE               292.0  \n",
       "     MINICOMPACT            285.0  \n",
       "     MINIVAN                331.0  \n",
       "...                           ...  \n",
       "2022 STATION WAGON - SMALL  260.0  \n",
       "     SUBCOMPACT             392.0  \n",
       "     SUV - SMALL            387.0  \n",
       "     SUV - STANDARD         412.0  \n",
       "     TWO-SEATER             608.0  \n",
       "\n",
       "[335 rows x 48 columns]"
      ]
     },
     "execution_count": 41,
     "metadata": {},
     "output_type": "execute_result"
    }
   ],
   "source": [
    "data_display = xls_clean.groupby(['YEAR', 'VEHICLE CLASS']).describe()\n",
    "data_display"
   ]
  },
  {
   "cell_type": "markdown",
   "id": "e52d571b",
   "metadata": {},
   "source": [
    "- Misc presentation detail and for explanation in class"
   ]
  },
  {
   "cell_type": "code",
   "execution_count": 45,
   "id": "2d115946",
   "metadata": {
    "scrolled": true
   },
   "outputs": [],
   "source": [
    "#data_display.index"
   ]
  },
  {
   "cell_type": "code",
   "execution_count": 46,
   "id": "146da307",
   "metadata": {},
   "outputs": [],
   "source": [
    "#data_display.dtypes"
   ]
  },
  {
   "cell_type": "code",
   "execution_count": null,
   "id": "b2b07563",
   "metadata": {},
   "outputs": [],
   "source": [
    "#[x[0] for x in data_display.index]"
   ]
  },
  {
   "cell_type": "code",
   "execution_count": null,
   "id": "b05b81be",
   "metadata": {},
   "outputs": [],
   "source": [
    "#[x[1] for x in data_display.index]"
   ]
  },
  {
   "cell_type": "code",
   "execution_count": 53,
   "id": "2f42bb89",
   "metadata": {},
   "outputs": [],
   "source": [
    "#data_display['COMB (mpg)']['mean'].values.tolist()"
   ]
  },
  {
   "cell_type": "markdown",
   "id": "5d7e18c6",
   "metadata": {},
   "source": [
    "### #6 With the variable created in STEP #5, in a new coding cell, use Plotly to create a line graph showing the mean of  'COMB (mpg)’ of each ‘VEHICLE CLASS’ across ‘YEAR’.\n",
    "- Label the axes ‘YEAR’ (x-axis) and ‘Combine MPG Average’ (y-axis) [Please note, the x- and y-axis assignment was corrected on 2/27/23]\n",
    "- Set the markers value as ‘True’ (line markers)\n",
    "- Title the figure ‘Average Combine MPG per Vehicle Class per Year’"
   ]
  },
  {
   "cell_type": "code",
   "execution_count": 54,
   "id": "f6933579",
   "metadata": {},
   "outputs": [],
   "source": [
    "Year = [x[0] for x in data_display.index]\n",
    "combineMPG = data_display['COMB (mpg)']['mean'].values.tolist()\n",
    "vehicleClass = [x[1] for x in data_display.index]"
   ]
  },
  {
   "cell_type": "code",
   "execution_count": 64,
   "id": "dfe43295",
   "metadata": {},
   "outputs": [
    {
     "data": {
      "application/vnd.plotly.v1+json": {
       "config": {
        "plotlyServerURL": "https://plot.ly"
       },
       "data": [
        {
         "hovertemplate": "color=COMPACT<br>x=%{x}<br>y=%{y}<extra></extra>",
         "legendgroup": "COMPACT",
         "line": {
          "color": "#636efa",
          "dash": "solid"
         },
         "marker": {
          "symbol": "circle"
         },
         "mode": "lines+markers",
         "name": "COMPACT",
         "orientation": "v",
         "showlegend": true,
         "type": "scatter",
         "x": [
          2000,
          2001,
          2002,
          2003,
          2004,
          2005,
          2006,
          2007,
          2008,
          2009,
          2010,
          2011,
          2012,
          2013,
          2014,
          2015,
          2016,
          2017,
          2018,
          2019,
          2020,
          2021,
          2022
         ],
         "xaxis": "x",
         "y": [
          31.504761904761907,
          31.93793103448276,
          31.969924812030076,
          32.37062937062937,
          31.603896103896105,
          31.698630136986303,
          31.233576642335766,
          30.25,
          30.2027027027027,
          30.326666666666668,
          32.17142857142857,
          33.653225806451616,
          35.06015037593985,
          35.214285714285715,
          36.19047619047619,
          31.333333333333332,
          31.414364640883978,
          31.60377358490566,
          32.23770491803279,
          32.43396226415094,
          32.28703703703704,
          32.92941176470588,
          33.22857142857143
         ],
         "yaxis": "y"
        },
        {
         "hovertemplate": "color=FULL-SIZE<br>x=%{x}<br>y=%{y}<extra></extra>",
         "legendgroup": "FULL-SIZE",
         "line": {
          "color": "#EF553B",
          "dash": "solid"
         },
         "marker": {
          "symbol": "circle"
         },
         "mode": "lines+markers",
         "name": "FULL-SIZE",
         "orientation": "v",
         "showlegend": true,
         "type": "scatter",
         "x": [
          2000,
          2001,
          2002,
          2003,
          2004,
          2005,
          2006,
          2007,
          2008,
          2009,
          2010,
          2011,
          2012,
          2013,
          2014,
          2015,
          2016,
          2017,
          2018,
          2019,
          2020,
          2021,
          2022
         ],
         "xaxis": "x",
         "y": [
          26.428571428571427,
          26.033333333333335,
          25.689655172413794,
          26.28,
          24.735294117647058,
          24.155555555555555,
          24.625,
          24.462962962962962,
          24.50793650793651,
          24.676470588235293,
          24.441558441558442,
          25.08450704225352,
          26.098765432098766,
          26.894736842105264,
          27.607142857142858,
          24,
          24.27777777777778,
          26.402439024390244,
          27.192660550458715,
          26.603960396039604,
          28.102564102564102,
          29,
          28.890625
         ],
         "yaxis": "y"
        },
        {
         "hovertemplate": "color=MID-SIZE<br>x=%{x}<br>y=%{y}<extra></extra>",
         "legendgroup": "MID-SIZE",
         "line": {
          "color": "#00cc96",
          "dash": "solid"
         },
         "marker": {
          "symbol": "circle"
         },
         "mode": "lines+markers",
         "name": "MID-SIZE",
         "orientation": "v",
         "showlegend": true,
         "type": "scatter",
         "x": [
          2000,
          2001,
          2002,
          2003,
          2004,
          2005,
          2006,
          2007,
          2008,
          2009,
          2010,
          2011,
          2012,
          2013,
          2014,
          2015,
          2016,
          2017,
          2018,
          2019,
          2020,
          2021,
          2022
         ],
         "xaxis": "x",
         "y": [
          27.441558441558442,
          27.353658536585368,
          27.444444444444443,
          27.48314606741573,
          27.92233009708738,
          28.140350877192983,
          28.18918918918919,
          29.115107913669064,
          28.970149253731343,
          29.024,
          29.95,
          31.96969696969697,
          32.86259541984733,
          35.44444444444444,
          35.752941176470586,
          31.044444444444444,
          31.335106382978722,
          31.166666666666668,
          31.664556962025316,
          32.66206896551724,
          31.365079365079364,
          31.42105263157895,
          31.034188034188034
         ],
         "yaxis": "y"
        },
        {
         "hovertemplate": "color=MINICOMPACT<br>x=%{x}<br>y=%{y}<extra></extra>",
         "legendgroup": "MINICOMPACT",
         "line": {
          "color": "#ab63fa",
          "dash": "solid"
         },
         "marker": {
          "symbol": "circle"
         },
         "mode": "lines+markers",
         "name": "MINICOMPACT",
         "orientation": "v",
         "showlegend": true,
         "type": "scatter",
         "x": [
          2000,
          2001,
          2002,
          2003,
          2004,
          2005,
          2006,
          2007,
          2008,
          2009,
          2010,
          2011,
          2012,
          2013,
          2014,
          2015,
          2016,
          2017,
          2018,
          2019,
          2020,
          2021,
          2022
         ],
         "xaxis": "x",
         "y": [
          25.636363636363637,
          25.235294117647058,
          25.363636363636363,
          27.575757575757574,
          29.2,
          26.256756756756758,
          28.43243243243243,
          27.5531914893617,
          27.897959183673468,
          31.023255813953487,
          30.4390243902439,
          30.169811320754718,
          30.56578947368421,
          34.41509433962264,
          33.744680851063826,
          28.593220338983052,
          28.557692307692307,
          29.84090909090909,
          28.245283018867923,
          28,
          26.652173913043477,
          24.9,
          24.224489795918366
         ],
         "yaxis": "y"
        },
        {
         "hovertemplate": "color=MINIVAN<br>x=%{x}<br>y=%{y}<extra></extra>",
         "legendgroup": "MINIVAN",
         "line": {
          "color": "#FFA15A",
          "dash": "solid"
         },
         "marker": {
          "symbol": "circle"
         },
         "mode": "lines+markers",
         "name": "MINIVAN",
         "orientation": "v",
         "showlegend": true,
         "type": "scatter",
         "x": [
          2000,
          2001,
          2002,
          2003,
          2004,
          2005,
          2006,
          2007,
          2008,
          2009,
          2010,
          2011,
          2012,
          2013,
          2014,
          2015,
          2016,
          2017,
          2018,
          2019,
          2020,
          2021,
          2022
         ],
         "xaxis": "x",
         "y": [
          23.96153846153846,
          24.88235294117647,
          24.545454545454547,
          24.392857142857142,
          25.571428571428573,
          24.727272727272727,
          24.714285714285715,
          24.08823529411765,
          25,
          26,
          26.142857142857142,
          25.5,
          27.375,
          27.2,
          26.928571428571427,
          23.8,
          23.916666666666668,
          25,
          24.454545454545453,
          24.666666666666668,
          25.5,
          30.714285714285715,
          31
         ],
         "yaxis": "y"
        },
        {
         "hovertemplate": "color=PICKUP TRUCK - SMALL<br>x=%{x}<br>y=%{y}<extra></extra>",
         "legendgroup": "PICKUP TRUCK - SMALL",
         "line": {
          "color": "#19d3f3",
          "dash": "solid"
         },
         "marker": {
          "symbol": "circle"
         },
         "mode": "lines+markers",
         "name": "PICKUP TRUCK - SMALL",
         "orientation": "v",
         "showlegend": true,
         "type": "scatter",
         "x": [
          2000,
          2001,
          2002,
          2003,
          2004,
          2008,
          2009,
          2010,
          2011,
          2012,
          2013,
          2014,
          2015,
          2016,
          2017,
          2018,
          2019,
          2020,
          2021,
          2022
         ],
         "xaxis": "x",
         "y": [
          26.272727272727273,
          23.5,
          23.166666666666668,
          24.75,
          20,
          24.76923076923077,
          25.338983050847457,
          25.48148148148148,
          25.529411764705884,
          25.767441860465116,
          26.583333333333332,
          26.5,
          23.954545454545453,
          24.884615384615383,
          24.392857142857142,
          24.296296296296298,
          24.16,
          24.526315789473685,
          24.58823529411765,
          26
         ],
         "yaxis": "y"
        },
        {
         "hovertemplate": "color=PICKUP TRUCK - STANDARD<br>x=%{x}<br>y=%{y}<extra></extra>",
         "legendgroup": "PICKUP TRUCK - STANDARD",
         "line": {
          "color": "#FF6692",
          "dash": "solid"
         },
         "marker": {
          "symbol": "circle"
         },
         "mode": "lines+markers",
         "name": "PICKUP TRUCK - STANDARD",
         "orientation": "v",
         "showlegend": true,
         "type": "scatter",
         "x": [
          2000,
          2001,
          2002,
          2003,
          2004,
          2005,
          2006,
          2007,
          2008,
          2009,
          2010,
          2011,
          2012,
          2013,
          2014,
          2015,
          2016,
          2017,
          2018,
          2019,
          2020,
          2021,
          2022
         ],
         "xaxis": "x",
         "y": [
          20.945652173913043,
          20.792079207920793,
          20.177570093457945,
          21.00943396226415,
          20.66393442622951,
          21.393700787401574,
          21.907801418439718,
          21.623376623376622,
          20.09722222222222,
          20.54736842105263,
          20.054794520547944,
          20.270588235294117,
          20.468354430379748,
          20.726190476190474,
          22.112903225806452,
          20.48076923076923,
          20.5,
          20.56,
          21.329896907216494,
          21.32323232323232,
          22.13186813186813,
          21.8,
          21.460176991150444
         ],
         "yaxis": "y"
        },
        {
         "hovertemplate": "color=STATION WAGON - MID-SIZE<br>x=%{x}<br>y=%{y}<extra></extra>",
         "legendgroup": "STATION WAGON - MID-SIZE",
         "line": {
          "color": "#B6E880",
          "dash": "solid"
         },
         "marker": {
          "symbol": "circle"
         },
         "mode": "lines+markers",
         "name": "STATION WAGON - MID-SIZE",
         "orientation": "v",
         "showlegend": true,
         "type": "scatter",
         "x": [
          2000,
          2001,
          2002,
          2003,
          2004,
          2005,
          2006,
          2007,
          2008,
          2009,
          2010,
          2011,
          2012,
          2013,
          2014,
          2015,
          2016,
          2017,
          2018,
          2019,
          2020,
          2021,
          2022
         ],
         "xaxis": "x",
         "y": [
          28.44,
          28.870967741935484,
          29.15625,
          29,
          28.414634146341463,
          28.210526315789473,
          28.035714285714285,
          28.625,
          28.5,
          28.53846153846154,
          28.88888888888889,
          28.5,
          35,
          39,
          35.5,
          30.625,
          30.857142857142858,
          32.125,
          30.2,
          26.11111111111111,
          24,
          24,
          24.25
         ],
         "yaxis": "y"
        },
        {
         "hovertemplate": "color=STATION WAGON - SMALL<br>x=%{x}<br>y=%{y}<extra></extra>",
         "legendgroup": "STATION WAGON - SMALL",
         "line": {
          "color": "#FF97FF",
          "dash": "solid"
         },
         "marker": {
          "symbol": "circle"
         },
         "mode": "lines+markers",
         "name": "STATION WAGON - SMALL",
         "orientation": "v",
         "showlegend": true,
         "type": "scatter",
         "x": [
          2000,
          2001,
          2002,
          2003,
          2004,
          2005,
          2006,
          2007,
          2008,
          2009,
          2010,
          2011,
          2012,
          2013,
          2014,
          2015,
          2016,
          2017,
          2018,
          2019,
          2020,
          2021,
          2022
         ],
         "xaxis": "x",
         "y": [
          31.692307692307693,
          31.916666666666668,
          29.27777777777778,
          31.644444444444446,
          31.27906976744186,
          30.814814814814813,
          31.735849056603772,
          31.59090909090909,
          31.58139534883721,
          32.351851851851855,
          33.56666666666667,
          33.55357142857143,
          34.57446808510638,
          34.79545454545455,
          35.470588235294116,
          33.48571428571429,
          33.270270270270274,
          35.06666666666667,
          35.17948717948718,
          34.891891891891895,
          36.2,
          36.4,
          36.26315789473684
         ],
         "yaxis": "y"
        },
        {
         "hovertemplate": "color=SUBCOMPACT<br>x=%{x}<br>y=%{y}<extra></extra>",
         "legendgroup": "SUBCOMPACT",
         "line": {
          "color": "#FECB52",
          "dash": "solid"
         },
         "marker": {
          "symbol": "circle"
         },
         "mode": "lines+markers",
         "name": "SUBCOMPACT",
         "orientation": "v",
         "showlegend": true,
         "type": "scatter",
         "x": [
          2000,
          2001,
          2002,
          2003,
          2004,
          2005,
          2006,
          2007,
          2008,
          2009,
          2010,
          2011,
          2012,
          2013,
          2014,
          2015,
          2016,
          2017,
          2018,
          2019,
          2020,
          2021,
          2022
         ],
         "xaxis": "x",
         "y": [
          31.48076923076923,
          31.258064516129032,
          29.15068493150685,
          27.984615384615385,
          28.96511627906977,
          29.82758620689655,
          29.743589743589745,
          29.50602409638554,
          29.86,
          29.98989898989899,
          30.510204081632654,
          31.01923076923077,
          30.735294117647058,
          30.63157894736842,
          31.903225806451612,
          28.66304347826087,
          28.513157894736842,
          27.580645161290324,
          27.78125,
          27.948979591836736,
          26.821052631578947,
          27.373493975903614,
          27.620253164556964
         ],
         "yaxis": "y"
        },
        {
         "hovertemplate": "color=SUV<br>x=%{x}<br>y=%{y}<extra></extra>",
         "legendgroup": "SUV",
         "line": {
          "color": "#636efa",
          "dash": "solid"
         },
         "marker": {
          "symbol": "circle"
         },
         "mode": "lines+markers",
         "name": "SUV",
         "orientation": "v",
         "showlegend": true,
         "type": "scatter",
         "x": [
          2000,
          2001,
          2002,
          2003,
          2004,
          2005,
          2006,
          2007,
          2008,
          2009,
          2010,
          2011,
          2012
         ],
         "xaxis": "x",
         "y": [
          22.84536082474227,
          23.081632653061224,
          22.572580645161292,
          22.5125,
          21.957894736842107,
          23,
          23.755656108597286,
          24.748953974895397,
          24.95505617977528,
          25.100746268656717,
          26.417670682730925,
          26.600746268656717,
          26.57872340425532
         ],
         "yaxis": "y"
        },
        {
         "hovertemplate": "color=TWO-SEATER<br>x=%{x}<br>y=%{y}<extra></extra>",
         "legendgroup": "TWO-SEATER",
         "line": {
          "color": "#EF553B",
          "dash": "solid"
         },
         "marker": {
          "symbol": "circle"
         },
         "mode": "lines+markers",
         "name": "TWO-SEATER",
         "orientation": "v",
         "showlegend": true,
         "type": "scatter",
         "x": [
          2000,
          2001,
          2002,
          2003,
          2004,
          2005,
          2006,
          2007,
          2008,
          2009,
          2010,
          2011,
          2012,
          2013,
          2014,
          2015,
          2016,
          2017,
          2018,
          2019,
          2020,
          2021,
          2022
         ],
         "xaxis": "x",
         "y": [
          23.4,
          27.548387096774192,
          25.972972972972972,
          25.475,
          25.065217391304348,
          26.03846153846154,
          26.93877551020408,
          25.049180327868854,
          25.575342465753426,
          24.109375,
          25.16949152542373,
          26.65625,
          29.289473684210527,
          31.75862068965517,
          31.271428571428572,
          26.404761904761905,
          25.441176470588236,
          24.75438596491228,
          24.333333333333332,
          24.37142857142857,
          24.421875,
          23,
          23.15686274509804
         ],
         "yaxis": "y"
        },
        {
         "hovertemplate": "color=VAN - CARGO<br>x=%{x}<br>y=%{y}<extra></extra>",
         "legendgroup": "VAN - CARGO",
         "line": {
          "color": "#00cc96",
          "dash": "solid"
         },
         "marker": {
          "symbol": "circle"
         },
         "mode": "lines+markers",
         "name": "VAN - CARGO",
         "orientation": "v",
         "showlegend": true,
         "type": "scatter",
         "x": [
          2000,
          2001,
          2002,
          2003,
          2004,
          2005,
          2006,
          2007,
          2008,
          2009,
          2010,
          2011,
          2012,
          2013,
          2014
         ],
         "xaxis": "x",
         "y": [
          19.82608695652174,
          19.26086956521739,
          19.434782608695652,
          18.666666666666668,
          18.80952380952381,
          20.384615384615383,
          20.214285714285715,
          18.666666666666668,
          18.53846153846154,
          18.53846153846154,
          17.666666666666668,
          17.454545454545453,
          17.40909090909091,
          17.40909090909091,
          17.318181818181817
         ],
         "yaxis": "y"
        },
        {
         "hovertemplate": "color=VAN - PASSENGER<br>x=%{x}<br>y=%{y}<extra></extra>",
         "legendgroup": "VAN - PASSENGER",
         "line": {
          "color": "#ab63fa",
          "dash": "solid"
         },
         "marker": {
          "symbol": "circle"
         },
         "mode": "lines+markers",
         "name": "VAN - PASSENGER",
         "orientation": "v",
         "showlegend": true,
         "type": "scatter",
         "x": [
          2000,
          2001,
          2002,
          2003,
          2004,
          2005,
          2006,
          2007,
          2008,
          2009,
          2010,
          2011,
          2012,
          2013,
          2014,
          2015,
          2016,
          2017,
          2018,
          2019,
          2020,
          2021
         ],
         "xaxis": "x",
         "y": [
          18.647058823529413,
          19.055555555555557,
          18.77777777777778,
          18.615384615384617,
          19.181818181818183,
          19.666666666666668,
          19.75,
          17.5,
          17.666666666666668,
          17.666666666666668,
          16.75,
          15.62962962962963,
          15.612903225806452,
          15.633333333333333,
          16,
          14.736842105263158,
          15.571428571428571,
          16,
          19,
          19,
          16.75,
          16.75
         ],
         "yaxis": "y"
        },
        {
         "hovertemplate": "color=SUV - STANDARD<br>x=%{x}<br>y=%{y}<extra></extra>",
         "legendgroup": "SUV - STANDARD",
         "line": {
          "color": "#FFA15A",
          "dash": "solid"
         },
         "marker": {
          "symbol": "circle"
         },
         "mode": "lines+markers",
         "name": "SUV - STANDARD",
         "orientation": "v",
         "showlegend": true,
         "type": "scatter",
         "x": [
          2007,
          2012,
          2013,
          2014,
          2015,
          2016,
          2017,
          2018,
          2019,
          2020,
          2021,
          2022
         ],
         "xaxis": "x",
         "y": [
          20,
          25.5,
          22.396039603960396,
          22.813725490196077,
          21.08080808080808,
          21.850467289719628,
          21.598039215686274,
          21.601941747572816,
          21.756756756756758,
          22.084745762711865,
          22.58267716535433,
          22.463087248322147
         ],
         "yaxis": "y"
        },
        {
         "hovertemplate": "color=SPECIAL PURPOSE VEHICLE<br>x=%{x}<br>y=%{y}<extra></extra>",
         "legendgroup": "SPECIAL PURPOSE VEHICLE",
         "line": {
          "color": "#19d3f3",
          "dash": "solid"
         },
         "marker": {
          "symbol": "circle"
         },
         "mode": "lines+markers",
         "name": "SPECIAL PURPOSE VEHICLE",
         "orientation": "v",
         "showlegend": true,
         "type": "scatter",
         "x": [
          2010,
          2011,
          2012,
          2013,
          2014,
          2015,
          2016,
          2017,
          2018,
          2019,
          2020,
          2021,
          2022
         ],
         "xaxis": "x",
         "y": [
          32,
          31,
          32.5,
          31.6,
          31.857142857142858,
          28.22222222222222,
          25.647058823529413,
          25.8,
          25.4,
          27.071428571428573,
          27.615384615384617,
          27.076923076923077,
          26.75
         ],
         "yaxis": "y"
        },
        {
         "hovertemplate": "color=SUV - SMALL<br>x=%{x}<br>y=%{y}<extra></extra>",
         "legendgroup": "SUV - SMALL",
         "line": {
          "color": "#FF6692",
          "dash": "solid"
         },
         "marker": {
          "symbol": "circle"
         },
         "mode": "lines+markers",
         "name": "SUV - SMALL",
         "orientation": "v",
         "showlegend": true,
         "type": "scatter",
         "x": [
          2013,
          2014,
          2015,
          2016,
          2017,
          2018,
          2019,
          2020,
          2021,
          2022
         ],
         "xaxis": "x",
         "y": [
          30.892086330935253,
          31.316129032258065,
          27.70949720670391,
          28.227777777777778,
          27.775862068965516,
          28.372881355932204,
          28.913793103448278,
          28.824468085106382,
          29.435233160621763,
          29.781725888324875
         ],
         "yaxis": "y"
        }
       ],
       "layout": {
        "legend": {
         "title": {
          "text": "Vehicle Class"
         },
         "tracegroupgap": 0
        },
        "margin": {
         "t": 60
        },
        "template": {
         "data": {
          "bar": [
           {
            "error_x": {
             "color": "#2a3f5f"
            },
            "error_y": {
             "color": "#2a3f5f"
            },
            "marker": {
             "line": {
              "color": "#E5ECF6",
              "width": 0.5
             },
             "pattern": {
              "fillmode": "overlay",
              "size": 10,
              "solidity": 0.2
             }
            },
            "type": "bar"
           }
          ],
          "barpolar": [
           {
            "marker": {
             "line": {
              "color": "#E5ECF6",
              "width": 0.5
             },
             "pattern": {
              "fillmode": "overlay",
              "size": 10,
              "solidity": 0.2
             }
            },
            "type": "barpolar"
           }
          ],
          "carpet": [
           {
            "aaxis": {
             "endlinecolor": "#2a3f5f",
             "gridcolor": "white",
             "linecolor": "white",
             "minorgridcolor": "white",
             "startlinecolor": "#2a3f5f"
            },
            "baxis": {
             "endlinecolor": "#2a3f5f",
             "gridcolor": "white",
             "linecolor": "white",
             "minorgridcolor": "white",
             "startlinecolor": "#2a3f5f"
            },
            "type": "carpet"
           }
          ],
          "choropleth": [
           {
            "colorbar": {
             "outlinewidth": 0,
             "ticks": ""
            },
            "type": "choropleth"
           }
          ],
          "contour": [
           {
            "colorbar": {
             "outlinewidth": 0,
             "ticks": ""
            },
            "colorscale": [
             [
              0,
              "#0d0887"
             ],
             [
              0.1111111111111111,
              "#46039f"
             ],
             [
              0.2222222222222222,
              "#7201a8"
             ],
             [
              0.3333333333333333,
              "#9c179e"
             ],
             [
              0.4444444444444444,
              "#bd3786"
             ],
             [
              0.5555555555555556,
              "#d8576b"
             ],
             [
              0.6666666666666666,
              "#ed7953"
             ],
             [
              0.7777777777777778,
              "#fb9f3a"
             ],
             [
              0.8888888888888888,
              "#fdca26"
             ],
             [
              1,
              "#f0f921"
             ]
            ],
            "type": "contour"
           }
          ],
          "contourcarpet": [
           {
            "colorbar": {
             "outlinewidth": 0,
             "ticks": ""
            },
            "type": "contourcarpet"
           }
          ],
          "heatmap": [
           {
            "colorbar": {
             "outlinewidth": 0,
             "ticks": ""
            },
            "colorscale": [
             [
              0,
              "#0d0887"
             ],
             [
              0.1111111111111111,
              "#46039f"
             ],
             [
              0.2222222222222222,
              "#7201a8"
             ],
             [
              0.3333333333333333,
              "#9c179e"
             ],
             [
              0.4444444444444444,
              "#bd3786"
             ],
             [
              0.5555555555555556,
              "#d8576b"
             ],
             [
              0.6666666666666666,
              "#ed7953"
             ],
             [
              0.7777777777777778,
              "#fb9f3a"
             ],
             [
              0.8888888888888888,
              "#fdca26"
             ],
             [
              1,
              "#f0f921"
             ]
            ],
            "type": "heatmap"
           }
          ],
          "heatmapgl": [
           {
            "colorbar": {
             "outlinewidth": 0,
             "ticks": ""
            },
            "colorscale": [
             [
              0,
              "#0d0887"
             ],
             [
              0.1111111111111111,
              "#46039f"
             ],
             [
              0.2222222222222222,
              "#7201a8"
             ],
             [
              0.3333333333333333,
              "#9c179e"
             ],
             [
              0.4444444444444444,
              "#bd3786"
             ],
             [
              0.5555555555555556,
              "#d8576b"
             ],
             [
              0.6666666666666666,
              "#ed7953"
             ],
             [
              0.7777777777777778,
              "#fb9f3a"
             ],
             [
              0.8888888888888888,
              "#fdca26"
             ],
             [
              1,
              "#f0f921"
             ]
            ],
            "type": "heatmapgl"
           }
          ],
          "histogram": [
           {
            "marker": {
             "pattern": {
              "fillmode": "overlay",
              "size": 10,
              "solidity": 0.2
             }
            },
            "type": "histogram"
           }
          ],
          "histogram2d": [
           {
            "colorbar": {
             "outlinewidth": 0,
             "ticks": ""
            },
            "colorscale": [
             [
              0,
              "#0d0887"
             ],
             [
              0.1111111111111111,
              "#46039f"
             ],
             [
              0.2222222222222222,
              "#7201a8"
             ],
             [
              0.3333333333333333,
              "#9c179e"
             ],
             [
              0.4444444444444444,
              "#bd3786"
             ],
             [
              0.5555555555555556,
              "#d8576b"
             ],
             [
              0.6666666666666666,
              "#ed7953"
             ],
             [
              0.7777777777777778,
              "#fb9f3a"
             ],
             [
              0.8888888888888888,
              "#fdca26"
             ],
             [
              1,
              "#f0f921"
             ]
            ],
            "type": "histogram2d"
           }
          ],
          "histogram2dcontour": [
           {
            "colorbar": {
             "outlinewidth": 0,
             "ticks": ""
            },
            "colorscale": [
             [
              0,
              "#0d0887"
             ],
             [
              0.1111111111111111,
              "#46039f"
             ],
             [
              0.2222222222222222,
              "#7201a8"
             ],
             [
              0.3333333333333333,
              "#9c179e"
             ],
             [
              0.4444444444444444,
              "#bd3786"
             ],
             [
              0.5555555555555556,
              "#d8576b"
             ],
             [
              0.6666666666666666,
              "#ed7953"
             ],
             [
              0.7777777777777778,
              "#fb9f3a"
             ],
             [
              0.8888888888888888,
              "#fdca26"
             ],
             [
              1,
              "#f0f921"
             ]
            ],
            "type": "histogram2dcontour"
           }
          ],
          "mesh3d": [
           {
            "colorbar": {
             "outlinewidth": 0,
             "ticks": ""
            },
            "type": "mesh3d"
           }
          ],
          "parcoords": [
           {
            "line": {
             "colorbar": {
              "outlinewidth": 0,
              "ticks": ""
             }
            },
            "type": "parcoords"
           }
          ],
          "pie": [
           {
            "automargin": true,
            "type": "pie"
           }
          ],
          "scatter": [
           {
            "fillpattern": {
             "fillmode": "overlay",
             "size": 10,
             "solidity": 0.2
            },
            "type": "scatter"
           }
          ],
          "scatter3d": [
           {
            "line": {
             "colorbar": {
              "outlinewidth": 0,
              "ticks": ""
             }
            },
            "marker": {
             "colorbar": {
              "outlinewidth": 0,
              "ticks": ""
             }
            },
            "type": "scatter3d"
           }
          ],
          "scattercarpet": [
           {
            "marker": {
             "colorbar": {
              "outlinewidth": 0,
              "ticks": ""
             }
            },
            "type": "scattercarpet"
           }
          ],
          "scattergeo": [
           {
            "marker": {
             "colorbar": {
              "outlinewidth": 0,
              "ticks": ""
             }
            },
            "type": "scattergeo"
           }
          ],
          "scattergl": [
           {
            "marker": {
             "colorbar": {
              "outlinewidth": 0,
              "ticks": ""
             }
            },
            "type": "scattergl"
           }
          ],
          "scattermapbox": [
           {
            "marker": {
             "colorbar": {
              "outlinewidth": 0,
              "ticks": ""
             }
            },
            "type": "scattermapbox"
           }
          ],
          "scatterpolar": [
           {
            "marker": {
             "colorbar": {
              "outlinewidth": 0,
              "ticks": ""
             }
            },
            "type": "scatterpolar"
           }
          ],
          "scatterpolargl": [
           {
            "marker": {
             "colorbar": {
              "outlinewidth": 0,
              "ticks": ""
             }
            },
            "type": "scatterpolargl"
           }
          ],
          "scatterternary": [
           {
            "marker": {
             "colorbar": {
              "outlinewidth": 0,
              "ticks": ""
             }
            },
            "type": "scatterternary"
           }
          ],
          "surface": [
           {
            "colorbar": {
             "outlinewidth": 0,
             "ticks": ""
            },
            "colorscale": [
             [
              0,
              "#0d0887"
             ],
             [
              0.1111111111111111,
              "#46039f"
             ],
             [
              0.2222222222222222,
              "#7201a8"
             ],
             [
              0.3333333333333333,
              "#9c179e"
             ],
             [
              0.4444444444444444,
              "#bd3786"
             ],
             [
              0.5555555555555556,
              "#d8576b"
             ],
             [
              0.6666666666666666,
              "#ed7953"
             ],
             [
              0.7777777777777778,
              "#fb9f3a"
             ],
             [
              0.8888888888888888,
              "#fdca26"
             ],
             [
              1,
              "#f0f921"
             ]
            ],
            "type": "surface"
           }
          ],
          "table": [
           {
            "cells": {
             "fill": {
              "color": "#EBF0F8"
             },
             "line": {
              "color": "white"
             }
            },
            "header": {
             "fill": {
              "color": "#C8D4E3"
             },
             "line": {
              "color": "white"
             }
            },
            "type": "table"
           }
          ]
         },
         "layout": {
          "annotationdefaults": {
           "arrowcolor": "#2a3f5f",
           "arrowhead": 0,
           "arrowwidth": 1
          },
          "autotypenumbers": "strict",
          "coloraxis": {
           "colorbar": {
            "outlinewidth": 0,
            "ticks": ""
           }
          },
          "colorscale": {
           "diverging": [
            [
             0,
             "#8e0152"
            ],
            [
             0.1,
             "#c51b7d"
            ],
            [
             0.2,
             "#de77ae"
            ],
            [
             0.3,
             "#f1b6da"
            ],
            [
             0.4,
             "#fde0ef"
            ],
            [
             0.5,
             "#f7f7f7"
            ],
            [
             0.6,
             "#e6f5d0"
            ],
            [
             0.7,
             "#b8e186"
            ],
            [
             0.8,
             "#7fbc41"
            ],
            [
             0.9,
             "#4d9221"
            ],
            [
             1,
             "#276419"
            ]
           ],
           "sequential": [
            [
             0,
             "#0d0887"
            ],
            [
             0.1111111111111111,
             "#46039f"
            ],
            [
             0.2222222222222222,
             "#7201a8"
            ],
            [
             0.3333333333333333,
             "#9c179e"
            ],
            [
             0.4444444444444444,
             "#bd3786"
            ],
            [
             0.5555555555555556,
             "#d8576b"
            ],
            [
             0.6666666666666666,
             "#ed7953"
            ],
            [
             0.7777777777777778,
             "#fb9f3a"
            ],
            [
             0.8888888888888888,
             "#fdca26"
            ],
            [
             1,
             "#f0f921"
            ]
           ],
           "sequentialminus": [
            [
             0,
             "#0d0887"
            ],
            [
             0.1111111111111111,
             "#46039f"
            ],
            [
             0.2222222222222222,
             "#7201a8"
            ],
            [
             0.3333333333333333,
             "#9c179e"
            ],
            [
             0.4444444444444444,
             "#bd3786"
            ],
            [
             0.5555555555555556,
             "#d8576b"
            ],
            [
             0.6666666666666666,
             "#ed7953"
            ],
            [
             0.7777777777777778,
             "#fb9f3a"
            ],
            [
             0.8888888888888888,
             "#fdca26"
            ],
            [
             1,
             "#f0f921"
            ]
           ]
          },
          "colorway": [
           "#636efa",
           "#EF553B",
           "#00cc96",
           "#ab63fa",
           "#FFA15A",
           "#19d3f3",
           "#FF6692",
           "#B6E880",
           "#FF97FF",
           "#FECB52"
          ],
          "font": {
           "color": "#2a3f5f"
          },
          "geo": {
           "bgcolor": "white",
           "lakecolor": "white",
           "landcolor": "#E5ECF6",
           "showlakes": true,
           "showland": true,
           "subunitcolor": "white"
          },
          "hoverlabel": {
           "align": "left"
          },
          "hovermode": "closest",
          "mapbox": {
           "style": "light"
          },
          "paper_bgcolor": "white",
          "plot_bgcolor": "#E5ECF6",
          "polar": {
           "angularaxis": {
            "gridcolor": "white",
            "linecolor": "white",
            "ticks": ""
           },
           "bgcolor": "#E5ECF6",
           "radialaxis": {
            "gridcolor": "white",
            "linecolor": "white",
            "ticks": ""
           }
          },
          "scene": {
           "xaxis": {
            "backgroundcolor": "#E5ECF6",
            "gridcolor": "white",
            "gridwidth": 2,
            "linecolor": "white",
            "showbackground": true,
            "ticks": "",
            "zerolinecolor": "white"
           },
           "yaxis": {
            "backgroundcolor": "#E5ECF6",
            "gridcolor": "white",
            "gridwidth": 2,
            "linecolor": "white",
            "showbackground": true,
            "ticks": "",
            "zerolinecolor": "white"
           },
           "zaxis": {
            "backgroundcolor": "#E5ECF6",
            "gridcolor": "white",
            "gridwidth": 2,
            "linecolor": "white",
            "showbackground": true,
            "ticks": "",
            "zerolinecolor": "white"
           }
          },
          "shapedefaults": {
           "line": {
            "color": "#2a3f5f"
           }
          },
          "ternary": {
           "aaxis": {
            "gridcolor": "white",
            "linecolor": "white",
            "ticks": ""
           },
           "baxis": {
            "gridcolor": "white",
            "linecolor": "white",
            "ticks": ""
           },
           "bgcolor": "#E5ECF6",
           "caxis": {
            "gridcolor": "white",
            "linecolor": "white",
            "ticks": ""
           }
          },
          "title": {
           "x": 0.05
          },
          "xaxis": {
           "automargin": true,
           "gridcolor": "white",
           "linecolor": "white",
           "ticks": "",
           "title": {
            "standoff": 15
           },
           "zerolinecolor": "white",
           "zerolinewidth": 2
          },
          "yaxis": {
           "automargin": true,
           "gridcolor": "white",
           "linecolor": "white",
           "ticks": "",
           "title": {
            "standoff": 15
           },
           "zerolinecolor": "white",
           "zerolinewidth": 2
          }
         }
        },
        "title": {
         "text": "Average Combined MPG per Vhicle Class per Year"
        },
        "xaxis": {
         "anchor": "y",
         "domain": [
          0,
          1
         ],
         "title": {
          "text": "Year"
         }
        },
        "yaxis": {
         "anchor": "x",
         "domain": [
          0,
          1
         ],
         "title": {
          "text": "Combined MPG Average"
         }
        }
       }
      },
      "text/html": [
       "<div>                            <div id=\"db091d27-4a74-419b-8a21-ee5b24876640\" class=\"plotly-graph-div\" style=\"height:525px; width:100%;\"></div>            <script type=\"text/javascript\">                require([\"plotly\"], function(Plotly) {                    window.PLOTLYENV=window.PLOTLYENV || {};                                    if (document.getElementById(\"db091d27-4a74-419b-8a21-ee5b24876640\")) {                    Plotly.newPlot(                        \"db091d27-4a74-419b-8a21-ee5b24876640\",                        [{\"hovertemplate\":\"color=COMPACT<br>x=%{x}<br>y=%{y}<extra></extra>\",\"legendgroup\":\"COMPACT\",\"line\":{\"color\":\"#636efa\",\"dash\":\"solid\"},\"marker\":{\"symbol\":\"circle\"},\"mode\":\"lines+markers\",\"name\":\"COMPACT\",\"orientation\":\"v\",\"showlegend\":true,\"x\":[2000,2001,2002,2003,2004,2005,2006,2007,2008,2009,2010,2011,2012,2013,2014,2015,2016,2017,2018,2019,2020,2021,2022],\"xaxis\":\"x\",\"y\":[31.504761904761907,31.93793103448276,31.969924812030076,32.37062937062937,31.603896103896105,31.698630136986303,31.233576642335766,30.25,30.2027027027027,30.326666666666668,32.17142857142857,33.653225806451616,35.06015037593985,35.214285714285715,36.19047619047619,31.333333333333332,31.414364640883978,31.60377358490566,32.23770491803279,32.43396226415094,32.28703703703704,32.92941176470588,33.22857142857143],\"yaxis\":\"y\",\"type\":\"scatter\"},{\"hovertemplate\":\"color=FULL-SIZE<br>x=%{x}<br>y=%{y}<extra></extra>\",\"legendgroup\":\"FULL-SIZE\",\"line\":{\"color\":\"#EF553B\",\"dash\":\"solid\"},\"marker\":{\"symbol\":\"circle\"},\"mode\":\"lines+markers\",\"name\":\"FULL-SIZE\",\"orientation\":\"v\",\"showlegend\":true,\"x\":[2000,2001,2002,2003,2004,2005,2006,2007,2008,2009,2010,2011,2012,2013,2014,2015,2016,2017,2018,2019,2020,2021,2022],\"xaxis\":\"x\",\"y\":[26.428571428571427,26.033333333333335,25.689655172413794,26.28,24.735294117647058,24.155555555555555,24.625,24.462962962962962,24.50793650793651,24.676470588235293,24.441558441558442,25.08450704225352,26.098765432098766,26.894736842105264,27.607142857142858,24.0,24.27777777777778,26.402439024390244,27.192660550458715,26.603960396039604,28.102564102564102,29.0,28.890625],\"yaxis\":\"y\",\"type\":\"scatter\"},{\"hovertemplate\":\"color=MID-SIZE<br>x=%{x}<br>y=%{y}<extra></extra>\",\"legendgroup\":\"MID-SIZE\",\"line\":{\"color\":\"#00cc96\",\"dash\":\"solid\"},\"marker\":{\"symbol\":\"circle\"},\"mode\":\"lines+markers\",\"name\":\"MID-SIZE\",\"orientation\":\"v\",\"showlegend\":true,\"x\":[2000,2001,2002,2003,2004,2005,2006,2007,2008,2009,2010,2011,2012,2013,2014,2015,2016,2017,2018,2019,2020,2021,2022],\"xaxis\":\"x\",\"y\":[27.441558441558442,27.353658536585368,27.444444444444443,27.48314606741573,27.92233009708738,28.140350877192983,28.18918918918919,29.115107913669064,28.970149253731343,29.024,29.95,31.96969696969697,32.86259541984733,35.44444444444444,35.752941176470586,31.044444444444444,31.335106382978722,31.166666666666668,31.664556962025316,32.66206896551724,31.365079365079364,31.42105263157895,31.034188034188034],\"yaxis\":\"y\",\"type\":\"scatter\"},{\"hovertemplate\":\"color=MINICOMPACT<br>x=%{x}<br>y=%{y}<extra></extra>\",\"legendgroup\":\"MINICOMPACT\",\"line\":{\"color\":\"#ab63fa\",\"dash\":\"solid\"},\"marker\":{\"symbol\":\"circle\"},\"mode\":\"lines+markers\",\"name\":\"MINICOMPACT\",\"orientation\":\"v\",\"showlegend\":true,\"x\":[2000,2001,2002,2003,2004,2005,2006,2007,2008,2009,2010,2011,2012,2013,2014,2015,2016,2017,2018,2019,2020,2021,2022],\"xaxis\":\"x\",\"y\":[25.636363636363637,25.235294117647058,25.363636363636363,27.575757575757574,29.2,26.256756756756758,28.43243243243243,27.5531914893617,27.897959183673468,31.023255813953487,30.4390243902439,30.169811320754718,30.56578947368421,34.41509433962264,33.744680851063826,28.593220338983052,28.557692307692307,29.84090909090909,28.245283018867923,28.0,26.652173913043477,24.9,24.224489795918366],\"yaxis\":\"y\",\"type\":\"scatter\"},{\"hovertemplate\":\"color=MINIVAN<br>x=%{x}<br>y=%{y}<extra></extra>\",\"legendgroup\":\"MINIVAN\",\"line\":{\"color\":\"#FFA15A\",\"dash\":\"solid\"},\"marker\":{\"symbol\":\"circle\"},\"mode\":\"lines+markers\",\"name\":\"MINIVAN\",\"orientation\":\"v\",\"showlegend\":true,\"x\":[2000,2001,2002,2003,2004,2005,2006,2007,2008,2009,2010,2011,2012,2013,2014,2015,2016,2017,2018,2019,2020,2021,2022],\"xaxis\":\"x\",\"y\":[23.96153846153846,24.88235294117647,24.545454545454547,24.392857142857142,25.571428571428573,24.727272727272727,24.714285714285715,24.08823529411765,25.0,26.0,26.142857142857142,25.5,27.375,27.2,26.928571428571427,23.8,23.916666666666668,25.0,24.454545454545453,24.666666666666668,25.5,30.714285714285715,31.0],\"yaxis\":\"y\",\"type\":\"scatter\"},{\"hovertemplate\":\"color=PICKUP TRUCK - SMALL<br>x=%{x}<br>y=%{y}<extra></extra>\",\"legendgroup\":\"PICKUP TRUCK - SMALL\",\"line\":{\"color\":\"#19d3f3\",\"dash\":\"solid\"},\"marker\":{\"symbol\":\"circle\"},\"mode\":\"lines+markers\",\"name\":\"PICKUP TRUCK - SMALL\",\"orientation\":\"v\",\"showlegend\":true,\"x\":[2000,2001,2002,2003,2004,2008,2009,2010,2011,2012,2013,2014,2015,2016,2017,2018,2019,2020,2021,2022],\"xaxis\":\"x\",\"y\":[26.272727272727273,23.5,23.166666666666668,24.75,20.0,24.76923076923077,25.338983050847457,25.48148148148148,25.529411764705884,25.767441860465116,26.583333333333332,26.5,23.954545454545453,24.884615384615383,24.392857142857142,24.296296296296298,24.16,24.526315789473685,24.58823529411765,26.0],\"yaxis\":\"y\",\"type\":\"scatter\"},{\"hovertemplate\":\"color=PICKUP TRUCK - STANDARD<br>x=%{x}<br>y=%{y}<extra></extra>\",\"legendgroup\":\"PICKUP TRUCK - STANDARD\",\"line\":{\"color\":\"#FF6692\",\"dash\":\"solid\"},\"marker\":{\"symbol\":\"circle\"},\"mode\":\"lines+markers\",\"name\":\"PICKUP TRUCK - STANDARD\",\"orientation\":\"v\",\"showlegend\":true,\"x\":[2000,2001,2002,2003,2004,2005,2006,2007,2008,2009,2010,2011,2012,2013,2014,2015,2016,2017,2018,2019,2020,2021,2022],\"xaxis\":\"x\",\"y\":[20.945652173913043,20.792079207920793,20.177570093457945,21.00943396226415,20.66393442622951,21.393700787401574,21.907801418439718,21.623376623376622,20.09722222222222,20.54736842105263,20.054794520547944,20.270588235294117,20.468354430379748,20.726190476190474,22.112903225806452,20.48076923076923,20.5,20.56,21.329896907216494,21.32323232323232,22.13186813186813,21.8,21.460176991150444],\"yaxis\":\"y\",\"type\":\"scatter\"},{\"hovertemplate\":\"color=STATION WAGON - MID-SIZE<br>x=%{x}<br>y=%{y}<extra></extra>\",\"legendgroup\":\"STATION WAGON - MID-SIZE\",\"line\":{\"color\":\"#B6E880\",\"dash\":\"solid\"},\"marker\":{\"symbol\":\"circle\"},\"mode\":\"lines+markers\",\"name\":\"STATION WAGON - MID-SIZE\",\"orientation\":\"v\",\"showlegend\":true,\"x\":[2000,2001,2002,2003,2004,2005,2006,2007,2008,2009,2010,2011,2012,2013,2014,2015,2016,2017,2018,2019,2020,2021,2022],\"xaxis\":\"x\",\"y\":[28.44,28.870967741935484,29.15625,29.0,28.414634146341463,28.210526315789473,28.035714285714285,28.625,28.5,28.53846153846154,28.88888888888889,28.5,35.0,39.0,35.5,30.625,30.857142857142858,32.125,30.2,26.11111111111111,24.0,24.0,24.25],\"yaxis\":\"y\",\"type\":\"scatter\"},{\"hovertemplate\":\"color=STATION WAGON - SMALL<br>x=%{x}<br>y=%{y}<extra></extra>\",\"legendgroup\":\"STATION WAGON - SMALL\",\"line\":{\"color\":\"#FF97FF\",\"dash\":\"solid\"},\"marker\":{\"symbol\":\"circle\"},\"mode\":\"lines+markers\",\"name\":\"STATION WAGON - SMALL\",\"orientation\":\"v\",\"showlegend\":true,\"x\":[2000,2001,2002,2003,2004,2005,2006,2007,2008,2009,2010,2011,2012,2013,2014,2015,2016,2017,2018,2019,2020,2021,2022],\"xaxis\":\"x\",\"y\":[31.692307692307693,31.916666666666668,29.27777777777778,31.644444444444446,31.27906976744186,30.814814814814813,31.735849056603772,31.59090909090909,31.58139534883721,32.351851851851855,33.56666666666667,33.55357142857143,34.57446808510638,34.79545454545455,35.470588235294116,33.48571428571429,33.270270270270274,35.06666666666667,35.17948717948718,34.891891891891895,36.2,36.4,36.26315789473684],\"yaxis\":\"y\",\"type\":\"scatter\"},{\"hovertemplate\":\"color=SUBCOMPACT<br>x=%{x}<br>y=%{y}<extra></extra>\",\"legendgroup\":\"SUBCOMPACT\",\"line\":{\"color\":\"#FECB52\",\"dash\":\"solid\"},\"marker\":{\"symbol\":\"circle\"},\"mode\":\"lines+markers\",\"name\":\"SUBCOMPACT\",\"orientation\":\"v\",\"showlegend\":true,\"x\":[2000,2001,2002,2003,2004,2005,2006,2007,2008,2009,2010,2011,2012,2013,2014,2015,2016,2017,2018,2019,2020,2021,2022],\"xaxis\":\"x\",\"y\":[31.48076923076923,31.258064516129032,29.15068493150685,27.984615384615385,28.96511627906977,29.82758620689655,29.743589743589745,29.50602409638554,29.86,29.98989898989899,30.510204081632654,31.01923076923077,30.735294117647058,30.63157894736842,31.903225806451612,28.66304347826087,28.513157894736842,27.580645161290324,27.78125,27.948979591836736,26.821052631578947,27.373493975903614,27.620253164556964],\"yaxis\":\"y\",\"type\":\"scatter\"},{\"hovertemplate\":\"color=SUV<br>x=%{x}<br>y=%{y}<extra></extra>\",\"legendgroup\":\"SUV\",\"line\":{\"color\":\"#636efa\",\"dash\":\"solid\"},\"marker\":{\"symbol\":\"circle\"},\"mode\":\"lines+markers\",\"name\":\"SUV\",\"orientation\":\"v\",\"showlegend\":true,\"x\":[2000,2001,2002,2003,2004,2005,2006,2007,2008,2009,2010,2011,2012],\"xaxis\":\"x\",\"y\":[22.84536082474227,23.081632653061224,22.572580645161292,22.5125,21.957894736842107,23.0,23.755656108597286,24.748953974895397,24.95505617977528,25.100746268656717,26.417670682730925,26.600746268656717,26.57872340425532],\"yaxis\":\"y\",\"type\":\"scatter\"},{\"hovertemplate\":\"color=TWO-SEATER<br>x=%{x}<br>y=%{y}<extra></extra>\",\"legendgroup\":\"TWO-SEATER\",\"line\":{\"color\":\"#EF553B\",\"dash\":\"solid\"},\"marker\":{\"symbol\":\"circle\"},\"mode\":\"lines+markers\",\"name\":\"TWO-SEATER\",\"orientation\":\"v\",\"showlegend\":true,\"x\":[2000,2001,2002,2003,2004,2005,2006,2007,2008,2009,2010,2011,2012,2013,2014,2015,2016,2017,2018,2019,2020,2021,2022],\"xaxis\":\"x\",\"y\":[23.4,27.548387096774192,25.972972972972972,25.475,25.065217391304348,26.03846153846154,26.93877551020408,25.049180327868854,25.575342465753426,24.109375,25.16949152542373,26.65625,29.289473684210527,31.75862068965517,31.271428571428572,26.404761904761905,25.441176470588236,24.75438596491228,24.333333333333332,24.37142857142857,24.421875,23.0,23.15686274509804],\"yaxis\":\"y\",\"type\":\"scatter\"},{\"hovertemplate\":\"color=VAN - CARGO<br>x=%{x}<br>y=%{y}<extra></extra>\",\"legendgroup\":\"VAN - CARGO\",\"line\":{\"color\":\"#00cc96\",\"dash\":\"solid\"},\"marker\":{\"symbol\":\"circle\"},\"mode\":\"lines+markers\",\"name\":\"VAN - CARGO\",\"orientation\":\"v\",\"showlegend\":true,\"x\":[2000,2001,2002,2003,2004,2005,2006,2007,2008,2009,2010,2011,2012,2013,2014],\"xaxis\":\"x\",\"y\":[19.82608695652174,19.26086956521739,19.434782608695652,18.666666666666668,18.80952380952381,20.384615384615383,20.214285714285715,18.666666666666668,18.53846153846154,18.53846153846154,17.666666666666668,17.454545454545453,17.40909090909091,17.40909090909091,17.318181818181817],\"yaxis\":\"y\",\"type\":\"scatter\"},{\"hovertemplate\":\"color=VAN - PASSENGER<br>x=%{x}<br>y=%{y}<extra></extra>\",\"legendgroup\":\"VAN - PASSENGER\",\"line\":{\"color\":\"#ab63fa\",\"dash\":\"solid\"},\"marker\":{\"symbol\":\"circle\"},\"mode\":\"lines+markers\",\"name\":\"VAN - PASSENGER\",\"orientation\":\"v\",\"showlegend\":true,\"x\":[2000,2001,2002,2003,2004,2005,2006,2007,2008,2009,2010,2011,2012,2013,2014,2015,2016,2017,2018,2019,2020,2021],\"xaxis\":\"x\",\"y\":[18.647058823529413,19.055555555555557,18.77777777777778,18.615384615384617,19.181818181818183,19.666666666666668,19.75,17.5,17.666666666666668,17.666666666666668,16.75,15.62962962962963,15.612903225806452,15.633333333333333,16.0,14.736842105263158,15.571428571428571,16.0,19.0,19.0,16.75,16.75],\"yaxis\":\"y\",\"type\":\"scatter\"},{\"hovertemplate\":\"color=SUV - STANDARD<br>x=%{x}<br>y=%{y}<extra></extra>\",\"legendgroup\":\"SUV - STANDARD\",\"line\":{\"color\":\"#FFA15A\",\"dash\":\"solid\"},\"marker\":{\"symbol\":\"circle\"},\"mode\":\"lines+markers\",\"name\":\"SUV - STANDARD\",\"orientation\":\"v\",\"showlegend\":true,\"x\":[2007,2012,2013,2014,2015,2016,2017,2018,2019,2020,2021,2022],\"xaxis\":\"x\",\"y\":[20.0,25.5,22.396039603960396,22.813725490196077,21.08080808080808,21.850467289719628,21.598039215686274,21.601941747572816,21.756756756756758,22.084745762711865,22.58267716535433,22.463087248322147],\"yaxis\":\"y\",\"type\":\"scatter\"},{\"hovertemplate\":\"color=SPECIAL PURPOSE VEHICLE<br>x=%{x}<br>y=%{y}<extra></extra>\",\"legendgroup\":\"SPECIAL PURPOSE VEHICLE\",\"line\":{\"color\":\"#19d3f3\",\"dash\":\"solid\"},\"marker\":{\"symbol\":\"circle\"},\"mode\":\"lines+markers\",\"name\":\"SPECIAL PURPOSE VEHICLE\",\"orientation\":\"v\",\"showlegend\":true,\"x\":[2010,2011,2012,2013,2014,2015,2016,2017,2018,2019,2020,2021,2022],\"xaxis\":\"x\",\"y\":[32.0,31.0,32.5,31.6,31.857142857142858,28.22222222222222,25.647058823529413,25.8,25.4,27.071428571428573,27.615384615384617,27.076923076923077,26.75],\"yaxis\":\"y\",\"type\":\"scatter\"},{\"hovertemplate\":\"color=SUV - SMALL<br>x=%{x}<br>y=%{y}<extra></extra>\",\"legendgroup\":\"SUV - SMALL\",\"line\":{\"color\":\"#FF6692\",\"dash\":\"solid\"},\"marker\":{\"symbol\":\"circle\"},\"mode\":\"lines+markers\",\"name\":\"SUV - SMALL\",\"orientation\":\"v\",\"showlegend\":true,\"x\":[2013,2014,2015,2016,2017,2018,2019,2020,2021,2022],\"xaxis\":\"x\",\"y\":[30.892086330935253,31.316129032258065,27.70949720670391,28.227777777777778,27.775862068965516,28.372881355932204,28.913793103448278,28.824468085106382,29.435233160621763,29.781725888324875],\"yaxis\":\"y\",\"type\":\"scatter\"}],                        {\"template\":{\"data\":{\"histogram2dcontour\":[{\"type\":\"histogram2dcontour\",\"colorbar\":{\"outlinewidth\":0,\"ticks\":\"\"},\"colorscale\":[[0.0,\"#0d0887\"],[0.1111111111111111,\"#46039f\"],[0.2222222222222222,\"#7201a8\"],[0.3333333333333333,\"#9c179e\"],[0.4444444444444444,\"#bd3786\"],[0.5555555555555556,\"#d8576b\"],[0.6666666666666666,\"#ed7953\"],[0.7777777777777778,\"#fb9f3a\"],[0.8888888888888888,\"#fdca26\"],[1.0,\"#f0f921\"]]}],\"choropleth\":[{\"type\":\"choropleth\",\"colorbar\":{\"outlinewidth\":0,\"ticks\":\"\"}}],\"histogram2d\":[{\"type\":\"histogram2d\",\"colorbar\":{\"outlinewidth\":0,\"ticks\":\"\"},\"colorscale\":[[0.0,\"#0d0887\"],[0.1111111111111111,\"#46039f\"],[0.2222222222222222,\"#7201a8\"],[0.3333333333333333,\"#9c179e\"],[0.4444444444444444,\"#bd3786\"],[0.5555555555555556,\"#d8576b\"],[0.6666666666666666,\"#ed7953\"],[0.7777777777777778,\"#fb9f3a\"],[0.8888888888888888,\"#fdca26\"],[1.0,\"#f0f921\"]]}],\"heatmap\":[{\"type\":\"heatmap\",\"colorbar\":{\"outlinewidth\":0,\"ticks\":\"\"},\"colorscale\":[[0.0,\"#0d0887\"],[0.1111111111111111,\"#46039f\"],[0.2222222222222222,\"#7201a8\"],[0.3333333333333333,\"#9c179e\"],[0.4444444444444444,\"#bd3786\"],[0.5555555555555556,\"#d8576b\"],[0.6666666666666666,\"#ed7953\"],[0.7777777777777778,\"#fb9f3a\"],[0.8888888888888888,\"#fdca26\"],[1.0,\"#f0f921\"]]}],\"heatmapgl\":[{\"type\":\"heatmapgl\",\"colorbar\":{\"outlinewidth\":0,\"ticks\":\"\"},\"colorscale\":[[0.0,\"#0d0887\"],[0.1111111111111111,\"#46039f\"],[0.2222222222222222,\"#7201a8\"],[0.3333333333333333,\"#9c179e\"],[0.4444444444444444,\"#bd3786\"],[0.5555555555555556,\"#d8576b\"],[0.6666666666666666,\"#ed7953\"],[0.7777777777777778,\"#fb9f3a\"],[0.8888888888888888,\"#fdca26\"],[1.0,\"#f0f921\"]]}],\"contourcarpet\":[{\"type\":\"contourcarpet\",\"colorbar\":{\"outlinewidth\":0,\"ticks\":\"\"}}],\"contour\":[{\"type\":\"contour\",\"colorbar\":{\"outlinewidth\":0,\"ticks\":\"\"},\"colorscale\":[[0.0,\"#0d0887\"],[0.1111111111111111,\"#46039f\"],[0.2222222222222222,\"#7201a8\"],[0.3333333333333333,\"#9c179e\"],[0.4444444444444444,\"#bd3786\"],[0.5555555555555556,\"#d8576b\"],[0.6666666666666666,\"#ed7953\"],[0.7777777777777778,\"#fb9f3a\"],[0.8888888888888888,\"#fdca26\"],[1.0,\"#f0f921\"]]}],\"surface\":[{\"type\":\"surface\",\"colorbar\":{\"outlinewidth\":0,\"ticks\":\"\"},\"colorscale\":[[0.0,\"#0d0887\"],[0.1111111111111111,\"#46039f\"],[0.2222222222222222,\"#7201a8\"],[0.3333333333333333,\"#9c179e\"],[0.4444444444444444,\"#bd3786\"],[0.5555555555555556,\"#d8576b\"],[0.6666666666666666,\"#ed7953\"],[0.7777777777777778,\"#fb9f3a\"],[0.8888888888888888,\"#fdca26\"],[1.0,\"#f0f921\"]]}],\"mesh3d\":[{\"type\":\"mesh3d\",\"colorbar\":{\"outlinewidth\":0,\"ticks\":\"\"}}],\"scatter\":[{\"fillpattern\":{\"fillmode\":\"overlay\",\"size\":10,\"solidity\":0.2},\"type\":\"scatter\"}],\"parcoords\":[{\"type\":\"parcoords\",\"line\":{\"colorbar\":{\"outlinewidth\":0,\"ticks\":\"\"}}}],\"scatterpolargl\":[{\"type\":\"scatterpolargl\",\"marker\":{\"colorbar\":{\"outlinewidth\":0,\"ticks\":\"\"}}}],\"bar\":[{\"error_x\":{\"color\":\"#2a3f5f\"},\"error_y\":{\"color\":\"#2a3f5f\"},\"marker\":{\"line\":{\"color\":\"#E5ECF6\",\"width\":0.5},\"pattern\":{\"fillmode\":\"overlay\",\"size\":10,\"solidity\":0.2}},\"type\":\"bar\"}],\"scattergeo\":[{\"type\":\"scattergeo\",\"marker\":{\"colorbar\":{\"outlinewidth\":0,\"ticks\":\"\"}}}],\"scatterpolar\":[{\"type\":\"scatterpolar\",\"marker\":{\"colorbar\":{\"outlinewidth\":0,\"ticks\":\"\"}}}],\"histogram\":[{\"marker\":{\"pattern\":{\"fillmode\":\"overlay\",\"size\":10,\"solidity\":0.2}},\"type\":\"histogram\"}],\"scattergl\":[{\"type\":\"scattergl\",\"marker\":{\"colorbar\":{\"outlinewidth\":0,\"ticks\":\"\"}}}],\"scatter3d\":[{\"type\":\"scatter3d\",\"line\":{\"colorbar\":{\"outlinewidth\":0,\"ticks\":\"\"}},\"marker\":{\"colorbar\":{\"outlinewidth\":0,\"ticks\":\"\"}}}],\"scattermapbox\":[{\"type\":\"scattermapbox\",\"marker\":{\"colorbar\":{\"outlinewidth\":0,\"ticks\":\"\"}}}],\"scatterternary\":[{\"type\":\"scatterternary\",\"marker\":{\"colorbar\":{\"outlinewidth\":0,\"ticks\":\"\"}}}],\"scattercarpet\":[{\"type\":\"scattercarpet\",\"marker\":{\"colorbar\":{\"outlinewidth\":0,\"ticks\":\"\"}}}],\"carpet\":[{\"aaxis\":{\"endlinecolor\":\"#2a3f5f\",\"gridcolor\":\"white\",\"linecolor\":\"white\",\"minorgridcolor\":\"white\",\"startlinecolor\":\"#2a3f5f\"},\"baxis\":{\"endlinecolor\":\"#2a3f5f\",\"gridcolor\":\"white\",\"linecolor\":\"white\",\"minorgridcolor\":\"white\",\"startlinecolor\":\"#2a3f5f\"},\"type\":\"carpet\"}],\"table\":[{\"cells\":{\"fill\":{\"color\":\"#EBF0F8\"},\"line\":{\"color\":\"white\"}},\"header\":{\"fill\":{\"color\":\"#C8D4E3\"},\"line\":{\"color\":\"white\"}},\"type\":\"table\"}],\"barpolar\":[{\"marker\":{\"line\":{\"color\":\"#E5ECF6\",\"width\":0.5},\"pattern\":{\"fillmode\":\"overlay\",\"size\":10,\"solidity\":0.2}},\"type\":\"barpolar\"}],\"pie\":[{\"automargin\":true,\"type\":\"pie\"}]},\"layout\":{\"autotypenumbers\":\"strict\",\"colorway\":[\"#636efa\",\"#EF553B\",\"#00cc96\",\"#ab63fa\",\"#FFA15A\",\"#19d3f3\",\"#FF6692\",\"#B6E880\",\"#FF97FF\",\"#FECB52\"],\"font\":{\"color\":\"#2a3f5f\"},\"hovermode\":\"closest\",\"hoverlabel\":{\"align\":\"left\"},\"paper_bgcolor\":\"white\",\"plot_bgcolor\":\"#E5ECF6\",\"polar\":{\"bgcolor\":\"#E5ECF6\",\"angularaxis\":{\"gridcolor\":\"white\",\"linecolor\":\"white\",\"ticks\":\"\"},\"radialaxis\":{\"gridcolor\":\"white\",\"linecolor\":\"white\",\"ticks\":\"\"}},\"ternary\":{\"bgcolor\":\"#E5ECF6\",\"aaxis\":{\"gridcolor\":\"white\",\"linecolor\":\"white\",\"ticks\":\"\"},\"baxis\":{\"gridcolor\":\"white\",\"linecolor\":\"white\",\"ticks\":\"\"},\"caxis\":{\"gridcolor\":\"white\",\"linecolor\":\"white\",\"ticks\":\"\"}},\"coloraxis\":{\"colorbar\":{\"outlinewidth\":0,\"ticks\":\"\"}},\"colorscale\":{\"sequential\":[[0.0,\"#0d0887\"],[0.1111111111111111,\"#46039f\"],[0.2222222222222222,\"#7201a8\"],[0.3333333333333333,\"#9c179e\"],[0.4444444444444444,\"#bd3786\"],[0.5555555555555556,\"#d8576b\"],[0.6666666666666666,\"#ed7953\"],[0.7777777777777778,\"#fb9f3a\"],[0.8888888888888888,\"#fdca26\"],[1.0,\"#f0f921\"]],\"sequentialminus\":[[0.0,\"#0d0887\"],[0.1111111111111111,\"#46039f\"],[0.2222222222222222,\"#7201a8\"],[0.3333333333333333,\"#9c179e\"],[0.4444444444444444,\"#bd3786\"],[0.5555555555555556,\"#d8576b\"],[0.6666666666666666,\"#ed7953\"],[0.7777777777777778,\"#fb9f3a\"],[0.8888888888888888,\"#fdca26\"],[1.0,\"#f0f921\"]],\"diverging\":[[0,\"#8e0152\"],[0.1,\"#c51b7d\"],[0.2,\"#de77ae\"],[0.3,\"#f1b6da\"],[0.4,\"#fde0ef\"],[0.5,\"#f7f7f7\"],[0.6,\"#e6f5d0\"],[0.7,\"#b8e186\"],[0.8,\"#7fbc41\"],[0.9,\"#4d9221\"],[1,\"#276419\"]]},\"xaxis\":{\"gridcolor\":\"white\",\"linecolor\":\"white\",\"ticks\":\"\",\"title\":{\"standoff\":15},\"zerolinecolor\":\"white\",\"automargin\":true,\"zerolinewidth\":2},\"yaxis\":{\"gridcolor\":\"white\",\"linecolor\":\"white\",\"ticks\":\"\",\"title\":{\"standoff\":15},\"zerolinecolor\":\"white\",\"automargin\":true,\"zerolinewidth\":2},\"scene\":{\"xaxis\":{\"backgroundcolor\":\"#E5ECF6\",\"gridcolor\":\"white\",\"linecolor\":\"white\",\"showbackground\":true,\"ticks\":\"\",\"zerolinecolor\":\"white\",\"gridwidth\":2},\"yaxis\":{\"backgroundcolor\":\"#E5ECF6\",\"gridcolor\":\"white\",\"linecolor\":\"white\",\"showbackground\":true,\"ticks\":\"\",\"zerolinecolor\":\"white\",\"gridwidth\":2},\"zaxis\":{\"backgroundcolor\":\"#E5ECF6\",\"gridcolor\":\"white\",\"linecolor\":\"white\",\"showbackground\":true,\"ticks\":\"\",\"zerolinecolor\":\"white\",\"gridwidth\":2}},\"shapedefaults\":{\"line\":{\"color\":\"#2a3f5f\"}},\"annotationdefaults\":{\"arrowcolor\":\"#2a3f5f\",\"arrowhead\":0,\"arrowwidth\":1},\"geo\":{\"bgcolor\":\"white\",\"landcolor\":\"#E5ECF6\",\"subunitcolor\":\"white\",\"showland\":true,\"showlakes\":true,\"lakecolor\":\"white\"},\"title\":{\"x\":0.05},\"mapbox\":{\"style\":\"light\"}}},\"xaxis\":{\"anchor\":\"y\",\"domain\":[0.0,1.0],\"title\":{\"text\":\"Year\"}},\"yaxis\":{\"anchor\":\"x\",\"domain\":[0.0,1.0],\"title\":{\"text\":\"Combined MPG Average\"}},\"legend\":{\"title\":{\"text\":\"Vehicle Class\"},\"tracegroupgap\":0},\"margin\":{\"t\":60},\"title\":{\"text\":\"Average Combined MPG per Vhicle Class per Year\"}},                        {\"responsive\": true}                    ).then(function(){\n",
       "                            \n",
       "var gd = document.getElementById('db091d27-4a74-419b-8a21-ee5b24876640');\n",
       "var x = new MutationObserver(function (mutations, observer) {{\n",
       "        var display = window.getComputedStyle(gd).display;\n",
       "        if (!display || display === 'none') {{\n",
       "            console.log([gd, 'removed!']);\n",
       "            Plotly.purge(gd);\n",
       "            observer.disconnect();\n",
       "        }}\n",
       "}});\n",
       "\n",
       "// Listen for the removal of the full notebook cells\n",
       "var notebookContainer = gd.closest('#notebook-container');\n",
       "if (notebookContainer) {{\n",
       "    x.observe(notebookContainer, {childList: true});\n",
       "}}\n",
       "\n",
       "// Listen for the clearing of the current output cell\n",
       "var outputEl = gd.closest('.output');\n",
       "if (outputEl) {{\n",
       "    x.observe(outputEl, {childList: true});\n",
       "}}\n",
       "\n",
       "                        })                };                });            </script>        </div>"
      ]
     },
     "metadata": {},
     "output_type": "display_data"
    }
   ],
   "source": [
    "fig = px.line(x=Year,\n",
    "              y=combineMPG,\n",
    "              color=vehicleClass,\n",
    "              markers=True\n",
    "             )\n",
    "\n",
    "fig.update_layout(title='Average Combined MPG per Vhicle Class per Year',\n",
    "                  xaxis_title='Year',\n",
    "                  yaxis_title='Combined MPG Average',\n",
    "                  legend_title='Vehicle Class'\n",
    "                 )\n",
    "\n",
    "fig.show()"
   ]
  },
  {
   "cell_type": "markdown",
   "id": "2b69390c",
   "metadata": {},
   "source": [
    "### #7 In a Markdown cell talk about what interactive features in Plotly you find most appealing and why.\n",
    "- The dyanmic functionality that shows interactive datapoints enables quick viewing of specific locations\n",
    "- It is also nice to be able to remove clutter as desired by clicking on the items in the legend\n"
   ]
  }
 ],
 "metadata": {
  "kernelspec": {
   "display_name": "Python 3 (ipykernel)",
   "language": "python",
   "name": "python3"
  },
  "language_info": {
   "codemirror_mode": {
    "name": "ipython",
    "version": 3
   },
   "file_extension": ".py",
   "mimetype": "text/x-python",
   "name": "python",
   "nbconvert_exporter": "python",
   "pygments_lexer": "ipython3",
   "version": "3.9.16"
  }
 },
 "nbformat": 4,
 "nbformat_minor": 5
}
