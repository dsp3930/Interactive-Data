{
 "cells": [
  {
   "cell_type": "markdown",
   "id": "b99c7b58",
   "metadata": {},
   "source": [
    "- Import pandas and numpy and alias to short name"
   ]
  },
  {
   "cell_type": "code",
   "execution_count": 1,
   "id": "1dd8c739",
   "metadata": {},
   "outputs": [],
   "source": [
    "import pandas as pd"
   ]
  },
  {
   "cell_type": "code",
   "execution_count": 5,
   "id": "3aed25ea",
   "metadata": {},
   "outputs": [],
   "source": [
    "import numpy as np"
   ]
  },
  {
   "cell_type": "markdown",
   "id": "142ddd86",
   "metadata": {},
   "source": [
    "- Selecte a date range starting with 20130101 and extending 2 additional dates. (Is there an option for an interval between dates, such as first day of week?)"
   ]
  },
  {
   "cell_type": "code",
   "execution_count": 22,
   "id": "ed93b03a",
   "metadata": {},
   "outputs": [],
   "source": [
    "dates = pd.date_range(\"20130101\", periods=3)"
   ]
  },
  {
   "cell_type": "markdown",
   "id": "57a2bee3",
   "metadata": {},
   "source": [
    "- (Number 2) Set the sheet to be 3x3 with random value at default limits, set the rows to be labeled with defined dates, and set the column names to specific string values"
   ]
  },
  {
   "cell_type": "code",
   "execution_count": 32,
   "id": "871afcab",
   "metadata": {},
   "outputs": [],
   "source": [
    "df = pd.DataFrame(np.random.randn(3, 3), index=dates, columns=list([\"Column 1\",\"Column 2\", \"Column 3\"]))"
   ]
  },
  {
   "cell_type": "markdown",
   "id": "80c6dd0e",
   "metadata": {},
   "source": [
    "- (Number 3) Show the head of the datafame"
   ]
  },
  {
   "cell_type": "code",
   "execution_count": 29,
   "id": "9af688a2",
   "metadata": {},
   "outputs": [
    {
     "data": {
      "text/html": [
       "<div>\n",
       "<style scoped>\n",
       "    .dataframe tbody tr th:only-of-type {\n",
       "        vertical-align: middle;\n",
       "    }\n",
       "\n",
       "    .dataframe tbody tr th {\n",
       "        vertical-align: top;\n",
       "    }\n",
       "\n",
       "    .dataframe thead th {\n",
       "        text-align: right;\n",
       "    }\n",
       "</style>\n",
       "<table border=\"1\" class=\"dataframe\">\n",
       "  <thead>\n",
       "    <tr style=\"text-align: right;\">\n",
       "      <th></th>\n",
       "      <th>Column 1</th>\n",
       "      <th>Column 2</th>\n",
       "      <th>Column 3</th>\n",
       "    </tr>\n",
       "  </thead>\n",
       "  <tbody>\n",
       "    <tr>\n",
       "      <th>2013-01-01</th>\n",
       "      <td>0.555816</td>\n",
       "      <td>-0.870296</td>\n",
       "      <td>-2.039042</td>\n",
       "    </tr>\n",
       "    <tr>\n",
       "      <th>2013-01-02</th>\n",
       "      <td>-2.266691</td>\n",
       "      <td>2.412938</td>\n",
       "      <td>0.414379</td>\n",
       "    </tr>\n",
       "    <tr>\n",
       "      <th>2013-01-03</th>\n",
       "      <td>-0.154734</td>\n",
       "      <td>0.702201</td>\n",
       "      <td>-0.430705</td>\n",
       "    </tr>\n",
       "  </tbody>\n",
       "</table>\n",
       "</div>"
      ],
      "text/plain": [
       "            Column 1  Column 2  Column 3\n",
       "2013-01-01  0.555816 -0.870296 -2.039042\n",
       "2013-01-02 -2.266691  2.412938  0.414379\n",
       "2013-01-03 -0.154734  0.702201 -0.430705"
      ]
     },
     "execution_count": 29,
     "metadata": {},
     "output_type": "execute_result"
    }
   ],
   "source": [
    "df.head()"
   ]
  },
  {
   "cell_type": "markdown",
   "id": "66b30d62",
   "metadata": {},
   "source": [
    "- (Number 4) SHow the index of the dataframe"
   ]
  },
  {
   "cell_type": "code",
   "execution_count": 30,
   "id": "2c1dd895",
   "metadata": {},
   "outputs": [
    {
     "data": {
      "text/plain": [
       "DatetimeIndex(['2013-01-01', '2013-01-02', '2013-01-03'], dtype='datetime64[ns]', freq='D')"
      ]
     },
     "execution_count": 30,
     "metadata": {},
     "output_type": "execute_result"
    }
   ],
   "source": [
    "df.index"
   ]
  },
  {
   "cell_type": "markdown",
   "id": "dc38d213",
   "metadata": {},
   "source": [
    "- (Number 5) Show the first column"
   ]
  },
  {
   "cell_type": "code",
   "execution_count": 34,
   "id": "bdc81724",
   "metadata": {
    "scrolled": true
   },
   "outputs": [
    {
     "data": {
      "text/plain": [
       "2013-01-01    2.854163\n",
       "2013-01-02   -1.967621\n",
       "2013-01-03    0.079924\n",
       "Freq: D, Name: Column 1, dtype: float64"
      ]
     },
     "execution_count": 34,
     "metadata": {},
     "output_type": "execute_result"
    }
   ],
   "source": [
    "df[\"Column 1\"]"
   ]
  },
  {
   "cell_type": "markdown",
   "id": "f82a0802",
   "metadata": {},
   "source": [
    "- (Number 6) Select first row of dataframe (Several ways to do this. Is there a way not to show column headers?)"
   ]
  },
  {
   "cell_type": "code",
   "execution_count": 56,
   "id": "40eb6e2b",
   "metadata": {},
   "outputs": [
    {
     "data": {
      "text/html": [
       "<div>\n",
       "<style scoped>\n",
       "    .dataframe tbody tr th:only-of-type {\n",
       "        vertical-align: middle;\n",
       "    }\n",
       "\n",
       "    .dataframe tbody tr th {\n",
       "        vertical-align: top;\n",
       "    }\n",
       "\n",
       "    .dataframe thead th {\n",
       "        text-align: right;\n",
       "    }\n",
       "</style>\n",
       "<table border=\"1\" class=\"dataframe\">\n",
       "  <thead>\n",
       "    <tr style=\"text-align: right;\">\n",
       "      <th></th>\n",
       "      <th>Column 1</th>\n",
       "      <th>Column 2</th>\n",
       "      <th>Column 3</th>\n",
       "    </tr>\n",
       "  </thead>\n",
       "  <tbody>\n",
       "    <tr>\n",
       "      <th>2013-01-01</th>\n",
       "      <td>2.854163</td>\n",
       "      <td>-1.534592</td>\n",
       "      <td>-0.911633</td>\n",
       "    </tr>\n",
       "  </tbody>\n",
       "</table>\n",
       "</div>"
      ],
      "text/plain": [
       "            Column 1  Column 2  Column 3\n",
       "2013-01-01  2.854163 -1.534592 -0.911633"
      ]
     },
     "execution_count": 56,
     "metadata": {},
     "output_type": "execute_result"
    }
   ],
   "source": [
    "df[0:1]"
   ]
  },
  {
   "cell_type": "markdown",
   "id": "09682adb",
   "metadata": {},
   "source": [
    "- (Number 7) Write out the dataframe to a csv"
   ]
  },
  {
   "cell_type": "code",
   "execution_count": 57,
   "id": "8f8150cf",
   "metadata": {},
   "outputs": [],
   "source": [
    "df.to_csv(\"dpittma5_pandasChallenge.csv\")"
   ]
  },
  {
   "cell_type": "markdown",
   "id": "7d4e925e",
   "metadata": {},
   "source": [
    "- (Number 8) Why are dynamic, interactive data visualizations useful when communicating data? --> Dynamic, interactive data visualizations are useful when communicating data because it allows the user to explore the data for themselves and manipulate the visual results in a way that is meaningful to them."
   ]
  }
 ],
 "metadata": {
  "kernelspec": {
   "display_name": "Python 3 (ipykernel)",
   "language": "python",
   "name": "python3"
  },
  "language_info": {
   "codemirror_mode": {
    "name": "ipython",
    "version": 3
   },
   "file_extension": ".py",
   "mimetype": "text/x-python",
   "name": "python",
   "nbconvert_exporter": "python",
   "pygments_lexer": "ipython3",
   "version": "3.9.13"
  }
 },
 "nbformat": 4,
 "nbformat_minor": 5
}
